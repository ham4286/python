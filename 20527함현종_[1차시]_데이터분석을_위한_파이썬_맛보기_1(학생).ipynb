{
  "nbformat": 4,
  "nbformat_minor": 0,
  "metadata": {
    "colab": {
      "provenance": [],
      "collapsed_sections": [],
      "include_colab_link": true
    },
    "kernelspec": {
      "name": "python3",
      "display_name": "Python 3"
    },
    "language_info": {
      "name": "python"
    }
  },
  "cells": [
    {
      "cell_type": "markdown",
      "metadata": {
        "id": "view-in-github",
        "colab_type": "text"
      },
      "source": [
        "<a href=\"https://colab.research.google.com/github/ham4286/python/blob/main/20527%ED%95%A8%ED%98%84%EC%A2%85_%5B1%EC%B0%A8%EC%8B%9C%5D_%EB%8D%B0%EC%9D%B4%ED%84%B0%EB%B6%84%EC%84%9D%EC%9D%84_%EC%9C%84%ED%95%9C_%ED%8C%8C%EC%9D%B4%EC%8D%AC_%EB%A7%9B%EB%B3%B4%EA%B8%B0_1(%ED%95%99%EC%83%9D).ipynb\" target=\"_parent\"><img src=\"https://colab.research.google.com/assets/colab-badge.svg\" alt=\"Open In Colab\"/></a>"
      ]
    },
    {
      "cell_type": "markdown",
      "source": [
        "# 코랩 환경을 같이 실습해보기"
      ],
      "metadata": {
        "id": "VUPYcQuUgtiV"
      }
    },
    {
      "cell_type": "markdown",
      "source": [
        "  \n",
        "> - 이 셀을 한 번 클릭한 후, 화면 좌측 상단의 '**+텍스트**' 버튼을 눌러보세요."
      ],
      "metadata": {
        "id": "mLg_XFcgSovq"
      }
    },
    {
      "cell_type": "markdown",
      "source": [
        "> - 해당 셀이 비어있어서 '더블 클릭 또는 Enter 키를 눌러 수정'이라고 쓰여 있을 것입니다.\n",
        "- 생성된 셀을 더블 클릭한 뒤, '방과후교실 시작!'을 입력한 뒤 `shift + enter`를 눌러주세요."
      ],
      "metadata": {
        "id": "UvFEjT9dSypW"
      }
    },
    {
      "cell_type": "markdown",
      "source": [
        "> - 이 셀을 한 번 클릭한 후, 화면 좌측 상단의 '+ 코드' 버튼을 눌러보세요."
      ],
      "metadata": {
        "id": "DTBnvEdv1DoI"
      }
    },
    {
      "cell_type": "code",
      "source": [
        "print(12345)"
      ],
      "metadata": {
        "id": "DqdPZgOnGgBR",
        "colab": {
          "base_uri": "https://localhost:8080/"
        },
        "outputId": "7b3a2384-1fd2-45dc-e65c-cbd271fd0370"
      },
      "execution_count": null,
      "outputs": [
        {
          "output_type": "stream",
          "name": "stdout",
          "text": [
            "12345\n"
          ]
        }
      ]
    },
    {
      "cell_type": "markdown",
      "source": [
        "> - 코드를 입력할 수 있는 셀이 추가되었습니다!!  \n",
        "> - 이제 해당 셀을 '**더블 클릭**'하거나 '**엔터키**'를 치고 편집합니다.\n",
        "> - 우측 상단의 툴박스를 통해 셀을\n",
        "    1.   위로 올리거나\n",
        "    2.   아래로 내리거나\n",
        "    3. 링크를 공유하거나\n",
        "    4. 댓글을 달거나\n",
        "    5. 삭제할 수 있습니다.\n",
        "\n",
        "> - 런타임이란 무엇인가요? : 프로그램 실행과 관련된 것 \n"
      ],
      "metadata": {
        "id": "ItlQFVk-S1A2"
      }
    },
    {
      "cell_type": "markdown",
      "source": [
        "\n",
        "주석(코멘트)\n",
        "> '#' 을 입력 후 내용을 입력할 수 있습니다.\n",
        "\n",
        "```\n",
        "# 방과후교실 1차시\n",
        "```\n",
        "\n",
        "\n",
        "\n",
        "```\n",
        "# 코드를 작성하면서 부연 설명 등을 적어줍니다.\n",
        "```\n"
      ],
      "metadata": {
        "id": "7gdu9lDxTGU1"
      }
    },
    {
      "cell_type": "markdown",
      "source": [
        "# **파이썬 터틀 맛보기**\n",
        "\n",
        "---\n",
        "\n"
      ],
      "metadata": {
        "id": "YRG7iNDf3d6N"
      }
    },
    {
      "cell_type": "markdown",
      "source": [
        "데이터분석에 들어가기 전에 손풀기로 지난 방과후 때 진행한 파이썬 터틀 모듈을 진행해봅시다."
      ],
      "metadata": {
        "id": "WwDAYkXwNhR-"
      }
    },
    {
      "cell_type": "code",
      "source": [
        "#파이썬 터틀 모듈 맛보기\n",
        "\n",
        "!pip install ColabTurtlePlus\n",
        "from ColabTurtlePlus.Turtle import *\n",
        "\n",
        "t=Turtle()\n",
        "shape(\"turtle\")\n",
        "pensize(2)\n",
        "color(\"red\", \"pink\")\n",
        "begin_fill()\n",
        "forward(100)\n",
        "left(90)\n",
        "forward(100)\n",
        "left(90)\n",
        "forward(100)\n",
        "left(90)\n",
        "forward(100)\n",
        "left(90)\n",
        "end_fill()\n",
        "color(\"black\", \"green\")\n",
        "initializeTurtle()\n",
        "circle(100)"
      ],
      "metadata": {
        "id": "8r-7NSsG1n-0",
        "colab": {
          "base_uri": "https://localhost:8080/",
          "height": 656
        },
        "outputId": "acc3bc87-ff1d-4472-fbbe-a991c3a2b00a"
      },
      "execution_count": null,
      "outputs": [
        {
          "output_type": "stream",
          "name": "stdout",
          "text": [
            "Looking in indexes: https://pypi.org/simple, https://us-python.pkg.dev/colab-wheels/public/simple/\n",
            "Requirement already satisfied: ColabTurtlePlus in /usr/local/lib/python3.7/dist-packages (2.0.1)\n"
          ]
        },
        {
          "output_type": "display_data",
          "data": {
            "text/plain": [
              "<IPython.core.display.HTML object>"
            ],
            "text/html": [
              "\n",
              "      <svg width=\"800\" height=\"600\">  \n",
              "        <rect width=\"100%\" height=\"100%\" style=\"fill:white;stroke:;stroke-width:1\"/>\n",
              "        \n",
              "        \n",
              "        <path d=\"M 400.0 300.0 A 100 100 0 0 0 425.882 296.593\" stroke-linecap=\"round\" \n",
              "            fill=\"transparent\" fill-opacity=\"0\" style=\"stroke:black;stroke-width:1\"/><path d=\"M 425.882 296.593 A 100 100 0 0 0 450.0 286.603\" stroke-linecap=\"round\" \n",
              "            fill=\"transparent\" fill-opacity=\"0\" style=\"stroke:black;stroke-width:1\"/><path d=\"M 450.0 286.603 A 100 100 0 0 0 470.711 270.711\" stroke-linecap=\"round\" \n",
              "            fill=\"transparent\" fill-opacity=\"0\" style=\"stroke:black;stroke-width:1\"/><path d=\"M 470.711 270.711 A 100 100 0 0 0 486.603 250.0\" stroke-linecap=\"round\" \n",
              "            fill=\"transparent\" fill-opacity=\"0\" style=\"stroke:black;stroke-width:1\"/><path d=\"M 486.603 250.0 A 100 100 0 0 0 496.593 225.882\" stroke-linecap=\"round\" \n",
              "            fill=\"transparent\" fill-opacity=\"0\" style=\"stroke:black;stroke-width:1\"/><path d=\"M 496.593 225.882 A 100 100 0 0 0 500.0 200.0\" stroke-linecap=\"round\" \n",
              "            fill=\"transparent\" fill-opacity=\"0\" style=\"stroke:black;stroke-width:1\"/><path d=\"M 500.0 200.0 A 100 100 0 0 0 496.593 174.118\" stroke-linecap=\"round\" \n",
              "            fill=\"transparent\" fill-opacity=\"0\" style=\"stroke:black;stroke-width:1\"/><path d=\"M 496.593 174.118 A 100 100 0 0 0 486.603 150.0\" stroke-linecap=\"round\" \n",
              "            fill=\"transparent\" fill-opacity=\"0\" style=\"stroke:black;stroke-width:1\"/><path d=\"M 486.603 150.0 A 100 100 0 0 0 470.711 129.289\" stroke-linecap=\"round\" \n",
              "            fill=\"transparent\" fill-opacity=\"0\" style=\"stroke:black;stroke-width:1\"/><path d=\"M 470.711 129.289 A 100 100 0 0 0 450.0 113.397\" stroke-linecap=\"round\" \n",
              "            fill=\"transparent\" fill-opacity=\"0\" style=\"stroke:black;stroke-width:1\"/><path d=\"M 450.0 113.397 A 100 100 0 0 0 425.882 103.407\" stroke-linecap=\"round\" \n",
              "            fill=\"transparent\" fill-opacity=\"0\" style=\"stroke:black;stroke-width:1\"/><path d=\"M 425.882 103.407 A 100 100 0 0 0 400.0 100.0\" stroke-linecap=\"round\" \n",
              "            fill=\"transparent\" fill-opacity=\"0\" style=\"stroke:black;stroke-width:1\"/><path d=\"M 400.0 100.0 A 100 100 0 0 0 374.118 103.407\" stroke-linecap=\"round\" \n",
              "            fill=\"transparent\" fill-opacity=\"0\" style=\"stroke:black;stroke-width:1\"/><path d=\"M 374.118 103.407 A 100 100 0 0 0 350.0 113.397\" stroke-linecap=\"round\" \n",
              "            fill=\"transparent\" fill-opacity=\"0\" style=\"stroke:black;stroke-width:1\"/><path d=\"M 350.0 113.397 A 100 100 0 0 0 329.289 129.289\" stroke-linecap=\"round\" \n",
              "            fill=\"transparent\" fill-opacity=\"0\" style=\"stroke:black;stroke-width:1\"/><path d=\"M 329.289 129.289 A 100 100 0 0 0 313.397 150.0\" stroke-linecap=\"round\" \n",
              "            fill=\"transparent\" fill-opacity=\"0\" style=\"stroke:black;stroke-width:1\"/><path d=\"M 313.397 150.0 A 100 100 0 0 0 303.407 174.118\" stroke-linecap=\"round\" \n",
              "            fill=\"transparent\" fill-opacity=\"0\" style=\"stroke:black;stroke-width:1\"/><path d=\"M 303.407 174.118 A 100 100 0 0 0 300.0 200.0\" stroke-linecap=\"round\" \n",
              "            fill=\"transparent\" fill-opacity=\"0\" style=\"stroke:black;stroke-width:1\"/><path d=\"M 300.0 200.0 A 100 100 0 0 0 303.407 225.882\" stroke-linecap=\"round\" \n",
              "            fill=\"transparent\" fill-opacity=\"0\" style=\"stroke:black;stroke-width:1\"/><path d=\"M 303.407 225.882 A 100 100 0 0 0 313.397 250.0\" stroke-linecap=\"round\" \n",
              "            fill=\"transparent\" fill-opacity=\"0\" style=\"stroke:black;stroke-width:1\"/><path d=\"M 313.397 250.0 A 100 100 0 0 0 329.289 270.711\" stroke-linecap=\"round\" \n",
              "            fill=\"transparent\" fill-opacity=\"0\" style=\"stroke:black;stroke-width:1\"/><path d=\"M 329.289 270.711 A 100 100 0 0 0 350.0 286.603\" stroke-linecap=\"round\" \n",
              "            fill=\"transparent\" fill-opacity=\"0\" style=\"stroke:black;stroke-width:1\"/><path d=\"M 350.0 286.603 A 100 100 0 0 0 374.118 296.593\" stroke-linecap=\"round\" \n",
              "            fill=\"transparent\" fill-opacity=\"0\" style=\"stroke:black;stroke-width:1\"/><path d=\"M 374.118 296.593 A 100 100 0 0 0 400.0 300.0\" stroke-linecap=\"round\" \n",
              "            fill=\"transparent\" fill-opacity=\"0\" style=\"stroke:black;stroke-width:1\"/>\n",
              "        \n",
              "        \n",
              "        <g id=\"classic\" visibility=\"visible\" transform=\"rotate(-90,400.0,300.0) translate(400.0, 300.0)\">\n",
              "<polygon points=\"-5,-4.5 0,-2.5 5,-4.5 0,4.5\" transform=\"skewX(0) scale(1,1)\" style=\"stroke:black;fill:black;stroke-width:1\" />\n",
              "</g><g id=\"turtle\" visibility=\"visible\" transform=\"rotate(90.0,400.0,300.0) translate(400.0, 300.0)\">\n",
              "<path style=\"stroke:black;fill-rule:evenodd;fill:black;fill-opacity:1;\" transform=\"skewX(0) scale(1,1)\" d=\"m 1.1536693,-18.56101 c -2.105469,1.167969 -3.203125,3.441407 -3.140625,6.5 l 0.011719,0.519532 -0.300782,-0.15625 c -1.308594,-0.671875 -2.828125,-0.824219 -4.378906,-0.429688 -1.9375,0.484375 -3.8906253,2.089844 -6.0117193,4.9257825 -1.332031,1.785156 -1.714843,2.644531 -1.351562,3.035156 l 0.113281,0.125 h 0.363281 c 0.71875,0 1.308594,-0.265625 4.6679693,-2.113282 1.199219,-0.660156 2.183594,-1.199218 2.191406,-1.199218 0.00781,0 -0.023437,0.089844 -0.074218,0.195312 -0.472657,1.058594 -1.046876,2.785156 -1.335938,4.042969 -1.054688,4.574219 -0.351562,8.453125 2.101562,11.582031 0.28125,0.355469 0.292969,0.253906 -0.097656,0.722656 -2.046875,2.4609375 -3.027344,4.8984375 -2.734375,6.8046875 0.050781,0.339844 0.042969,0.335938 0.679688,0.335938 2.023437,0 4.15625,-1.316407 6.21875,-3.835938 0.222656,-0.269531 0.191406,-0.261719 0.425781,-0.113281 0.730469,0.46875 2.460938,1.390625 2.613281,1.390625 0.160157,0 1.765625,-0.753906 2.652344,-1.246094 0.167969,-0.09375 0.308594,-0.164062 0.308594,-0.160156 0.066406,0.105468 0.761719,0.855468 1.085937,1.171875 1.613282,1.570312 3.339844,2.402343 5.3593747,2.570312 0.324219,0.02734 0.355469,0.0078 0.425781,-0.316406 0.375,-1.742187 -0.382812,-4.058594 -2.1445307,-6.5585935 l -0.320312,-0.457031 0.15625,-0.183594 c 3.2460927,-3.824218 3.4335927,-9.08593704 0.558593,-15.816406 l -0.050781,-0.125 1.7382807,0.859375 c 3.585938,1.773437 4.371094,2.097656 5.085938,2.097656 0.945312,0 0.75,-0.863281 -0.558594,-2.507812 C 11.458356,-11.838353 8.3333563,-13.268041 4.8607003,-11.721166 l -0.363281,0.164063 0.019531,-0.09375 c 0.121094,-0.550781 0.183594,-1.800781 0.121094,-2.378907 -0.203125,-1.867187 -1.035157,-3.199218 -2.695313,-4.308593 -0.523437,-0.351563 -0.546875,-0.355469 -0.789062,-0.222657\" />\n",
              "</g>\n",
              "      </svg>\n",
              "    "
            ]
          },
          "metadata": {}
        }
      ]
    },
    {
      "cell_type": "markdown",
      "source": [
        "터틀 모듈 정리하기\n",
        "선생님과 함께 진행한 터틀 모듈에 대하여 정리해봅시다.\n",
        "\n",
        "\n",
        "\n",
        "*   shpae(\"모양\") = 펜의 모양\n",
        "*   forward(거리) = 앞으로 이동할 거리 \n",
        "*   left(각도) = 왼쪽으로 회전할 각도\n",
        "*   right(각도) = 오른쪽으로 회전할 각도\n",
        "*   circle(지름) = 지름만큼의 원 그리기\n",
        "*   color(\"테두리 색상\",\"채우기 색상\") = 색상 정하기\n",
        "*   penup() = 펜 올리기(이동하는 동안 그려지지 않음.\n",
        "*  pendown() = 펜 내리기(그리기 시작)\n",
        "*  goto(x좌표, y좌표) = 그리는 펜의 위치를 이동\n",
        "*   intialize() = 그렸던 도형을 모두 초기화\n",
        "\n",
        "이 외에도 다양한 함수가 있어요.\n",
        "앞으로는 궁금한 함수가 있을 때에는 외우지 말고 검색해보기!"
      ],
      "metadata": {
        "id": "07n5PrmvRw_6"
      }
    },
    {
      "cell_type": "markdown",
      "source": [
        "미션!\n",
        "위의 코드를 활용해서 아래 조건을 만족하는 도형을 그려보세요~\n",
        "\n",
        "*   pensize = 마음대로\n",
        "*   한 변의 크기 = 마음대로\n",
        "*   도형 = 삼각형\n",
        "*   한 변의 색상과 채우기 색상 = 마음대로\n",
        "\n",
        "-> 위의 +코드 버튼을 클릭하고 해보세요\n",
        "\n",
        "\n",
        "\n",
        "\n",
        "\n"
      ],
      "metadata": {
        "id": "ULk5hZ-lOMaH"
      }
    },
    {
      "cell_type": "code",
      "source": [
        "!pip install ColabTurtlePlus\n",
        "from ColabTurtlePlus.Turtle import *\n",
        "\n",
        "t=Turtle()\n",
        "shape(\"turtle\")\n",
        "pensize(2)\n",
        "color(\"red\", \"pink\")\n",
        "initializeTurtle()\n",
        "\n",
        "for i in range(3):\n",
        "  forward(100)\n",
        "  left(120)\n"
      ],
      "metadata": {
        "colab": {
          "base_uri": "https://localhost:8080/",
          "height": 656
        },
        "id": "PQPpMT2xCtww",
        "outputId": "d417b637-2ce3-4d4a-cfea-7e23da04984d"
      },
      "execution_count": null,
      "outputs": [
        {
          "output_type": "stream",
          "name": "stdout",
          "text": [
            "Looking in indexes: https://pypi.org/simple, https://us-python.pkg.dev/colab-wheels/public/simple/\n",
            "Requirement already satisfied: ColabTurtlePlus in /usr/local/lib/python3.7/dist-packages (2.0.1)\n"
          ]
        },
        {
          "output_type": "display_data",
          "data": {
            "text/plain": [
              "<IPython.core.display.HTML object>"
            ],
            "text/html": [
              "\n",
              "      <svg width=\"800\" height=\"600\">  \n",
              "        <rect width=\"100%\" height=\"100%\" style=\"fill:white;stroke:;stroke-width:1\"/>\n",
              "        \n",
              "        \n",
              "        <line x1=\"400.0\" y1=\"300.0\" x2=\"500.0\" y2=\"300.0\" stroke-linecap=\"round\" style=\"stroke:black;stroke-width:1\" /><line x1=\"500.0\" y1=\"300.0\" x2=\"450.0\" y2=\"213.397\" stroke-linecap=\"round\" style=\"stroke:black;stroke-width:1\" /><line x1=\"450.0\" y1=\"213.397\" x2=\"400.0\" y2=\"300.0\" stroke-linecap=\"round\" style=\"stroke:black;stroke-width:1\" />\n",
              "        \n",
              "        \n",
              "        <g id=\"classic\" visibility=\"visible\" transform=\"rotate(-90,400.0,300.0) translate(400.0, 300.0)\">\n",
              "<polygon points=\"-5,-4.5 0,-2.5 5,-4.5 0,4.5\" transform=\"skewX(0) scale(1,1)\" style=\"stroke:black;fill:black;stroke-width:1\" />\n",
              "</g><g id=\"turtle\" visibility=\"visible\" transform=\"rotate(210,400.0,300.0) translate(400.0, 300.0)\">\n",
              "<path style=\"stroke:black;fill-rule:evenodd;fill:black;fill-opacity:1;\" transform=\"skewX(0) scale(1,1)\" d=\"m 1.1536693,-18.56101 c -2.105469,1.167969 -3.203125,3.441407 -3.140625,6.5 l 0.011719,0.519532 -0.300782,-0.15625 c -1.308594,-0.671875 -2.828125,-0.824219 -4.378906,-0.429688 -1.9375,0.484375 -3.8906253,2.089844 -6.0117193,4.9257825 -1.332031,1.785156 -1.714843,2.644531 -1.351562,3.035156 l 0.113281,0.125 h 0.363281 c 0.71875,0 1.308594,-0.265625 4.6679693,-2.113282 1.199219,-0.660156 2.183594,-1.199218 2.191406,-1.199218 0.00781,0 -0.023437,0.089844 -0.074218,0.195312 -0.472657,1.058594 -1.046876,2.785156 -1.335938,4.042969 -1.054688,4.574219 -0.351562,8.453125 2.101562,11.582031 0.28125,0.355469 0.292969,0.253906 -0.097656,0.722656 -2.046875,2.4609375 -3.027344,4.8984375 -2.734375,6.8046875 0.050781,0.339844 0.042969,0.335938 0.679688,0.335938 2.023437,0 4.15625,-1.316407 6.21875,-3.835938 0.222656,-0.269531 0.191406,-0.261719 0.425781,-0.113281 0.730469,0.46875 2.460938,1.390625 2.613281,1.390625 0.160157,0 1.765625,-0.753906 2.652344,-1.246094 0.167969,-0.09375 0.308594,-0.164062 0.308594,-0.160156 0.066406,0.105468 0.761719,0.855468 1.085937,1.171875 1.613282,1.570312 3.339844,2.402343 5.3593747,2.570312 0.324219,0.02734 0.355469,0.0078 0.425781,-0.316406 0.375,-1.742187 -0.382812,-4.058594 -2.1445307,-6.5585935 l -0.320312,-0.457031 0.15625,-0.183594 c 3.2460927,-3.824218 3.4335927,-9.08593704 0.558593,-15.816406 l -0.050781,-0.125 1.7382807,0.859375 c 3.585938,1.773437 4.371094,2.097656 5.085938,2.097656 0.945312,0 0.75,-0.863281 -0.558594,-2.507812 C 11.458356,-11.838353 8.3333563,-13.268041 4.8607003,-11.721166 l -0.363281,0.164063 0.019531,-0.09375 c 0.121094,-0.550781 0.183594,-1.800781 0.121094,-2.378907 -0.203125,-1.867187 -1.035157,-3.199218 -2.695313,-4.308593 -0.523437,-0.351563 -0.546875,-0.355469 -0.789062,-0.222657\" />\n",
              "<animateTransform id = \"one\" attributeName=\"transform\" \n",
              "                      type=\"scale\"\n",
              "                      from=\"1 1\" to=\"1 1\"\n",
              "                      begin=\"0s\" dur=\"0.01s\"\n",
              "                      repeatCount=\"1\"\n",
              "                      additive=\"sum\"\n",
              "                      fill=\"freeze\"\n",
              "                /><animateTransform attributeName=\"transform\"\n",
              "                    type=\"rotate\"\n",
              "                    from=\"0 0 0\" to =\"-120 0 0\"\n",
              "                    begin=\"one.end\" dur=\"0.3333333333333333s\"\n",
              "                    repeatCount=\"1\"\n",
              "                    additive=\"sum\"\n",
              "                    fill=\"freeze\"\n",
              "                /></g><g id=\"classic\" visibility=\"visible\" transform=\"rotate(-90,400.0,300.0) translate(400.0, 300.0)\">\n",
              "<polygon points=\"-5,-4.5 0,-2.5 5,-4.5 0,4.5\" transform=\"skewX(0) scale(1,1)\" style=\"stroke:black;fill:black;stroke-width:1\" />\n",
              "</g><g id=\"classic\" visibility=\"visible\" transform=\"rotate(-90,400.0,300.0) translate(400.0, 300.0)\">\n",
              "<polygon points=\"-5,-4.5 0,-2.5 5,-4.5 0,4.5\" transform=\"skewX(0) scale(1,1)\" style=\"stroke:black;fill:black;stroke-width:1\" />\n",
              "</g><g id=\"classic\" visibility=\"visible\" transform=\"rotate(-90,400.0,300.0) translate(400.0, 300.0)\">\n",
              "<polygon points=\"-5,-4.5 0,-2.5 5,-4.5 0,4.5\" transform=\"skewX(0) scale(1,1)\" style=\"stroke:black;fill:black;stroke-width:1\" />\n",
              "</g><g id=\"classic\" visibility=\"visible\" transform=\"rotate(-90,400.0,300.0) translate(400.0, 300.0)\">\n",
              "<polygon points=\"-5,-4.5 0,-2.5 5,-4.5 0,4.5\" transform=\"skewX(0) scale(1,1)\" style=\"stroke:black;fill:black;stroke-width:1\" />\n",
              "</g><g id=\"classic\" visibility=\"visible\" transform=\"rotate(-90,400.0,300.0) translate(400.0, 300.0)\">\n",
              "<polygon points=\"-5,-4.5 0,-2.5 5,-4.5 0,4.5\" transform=\"skewX(0) scale(1,1)\" style=\"stroke:black;fill:black;stroke-width:1\" />\n",
              "</g><g id=\"classic\" visibility=\"visible\" transform=\"rotate(-90,400.0,300.0) translate(400.0, 300.0)\">\n",
              "<polygon points=\"-5,-4.5 0,-2.5 5,-4.5 0,4.5\" transform=\"skewX(0) scale(1,1)\" style=\"stroke:black;fill:black;stroke-width:1\" />\n",
              "</g><g id=\"classic\" visibility=\"visible\" transform=\"rotate(-90,400.0,300.0) translate(400.0, 300.0)\">\n",
              "<polygon points=\"-5,-4.5 0,-2.5 5,-4.5 0,4.5\" transform=\"skewX(0) scale(1,1)\" style=\"stroke:black;fill:black;stroke-width:1\" />\n",
              "</g>\n",
              "      </svg>\n",
              "    "
            ]
          },
          "metadata": {}
        }
      ]
    },
    {
      "cell_type": "markdown",
      "source": [
        "미션!\n",
        "위의 코드를 활용해서 아래 조건을 만족하는 도형을 그려보세요~\n",
        "\n",
        "*   pensize = 마음대로\n",
        "*   지름의 크기 = 마음대로\n",
        "*   도형 = 원\n",
        "*   원의 테두리과 채우기 색상 = 마음대로\n",
        "\n",
        "-> 위의 +코드 버튼을 클릭하고 해보세요\n"
      ],
      "metadata": {
        "id": "F76stFB5PG3p"
      }
    },
    {
      "cell_type": "code",
      "source": [
        "!pip install ColabTurtlePlus\n",
        "from ColabTurtlePlus.Turtle import *\n",
        "\n",
        "t= Turtle\n",
        "shape(\"turtle\")\n",
        "pensize(2)\n",
        "initializeTurtle()\n",
        "\n",
        "circle(100)"
      ],
      "metadata": {
        "colab": {
          "base_uri": "https://localhost:8080/",
          "height": 656
        },
        "id": "JTdK7es2DW_i",
        "outputId": "baeaeb10-cad2-44f1-fa40-e33cb4e342ff"
      },
      "execution_count": null,
      "outputs": [
        {
          "output_type": "stream",
          "name": "stdout",
          "text": [
            "Looking in indexes: https://pypi.org/simple, https://us-python.pkg.dev/colab-wheels/public/simple/\n",
            "Requirement already satisfied: ColabTurtlePlus in /usr/local/lib/python3.7/dist-packages (2.0.1)\n"
          ]
        },
        {
          "output_type": "display_data",
          "data": {
            "text/plain": [
              "<IPython.core.display.HTML object>"
            ],
            "text/html": [
              "\n",
              "      <svg width=\"800\" height=\"600\">  \n",
              "        <rect width=\"100%\" height=\"100%\" style=\"fill:white;stroke:;stroke-width:1\"/>\n",
              "        \n",
              "        \n",
              "        <path d=\"M 400.0 300.0 A 100 100 0 0 0 425.882 296.593\" stroke-linecap=\"round\" \n",
              "            fill=\"transparent\" fill-opacity=\"0\" style=\"stroke:black;stroke-width:1\"/><path d=\"M 425.882 296.593 A 100 100 0 0 0 450.0 286.603\" stroke-linecap=\"round\" \n",
              "            fill=\"transparent\" fill-opacity=\"0\" style=\"stroke:black;stroke-width:1\"/><path d=\"M 450.0 286.603 A 100 100 0 0 0 470.711 270.711\" stroke-linecap=\"round\" \n",
              "            fill=\"transparent\" fill-opacity=\"0\" style=\"stroke:black;stroke-width:1\"/><path d=\"M 470.711 270.711 A 100 100 0 0 0 486.603 250.0\" stroke-linecap=\"round\" \n",
              "            fill=\"transparent\" fill-opacity=\"0\" style=\"stroke:black;stroke-width:1\"/><path d=\"M 486.603 250.0 A 100 100 0 0 0 496.593 225.882\" stroke-linecap=\"round\" \n",
              "            fill=\"transparent\" fill-opacity=\"0\" style=\"stroke:black;stroke-width:1\"/><path d=\"M 496.593 225.882 A 100 100 0 0 0 500.0 200.0\" stroke-linecap=\"round\" \n",
              "            fill=\"transparent\" fill-opacity=\"0\" style=\"stroke:black;stroke-width:1\"/><path d=\"M 500.0 200.0 A 100 100 0 0 0 496.593 174.118\" stroke-linecap=\"round\" \n",
              "            fill=\"transparent\" fill-opacity=\"0\" style=\"stroke:black;stroke-width:1\"/><path d=\"M 496.593 174.118 A 100 100 0 0 0 486.603 150.0\" stroke-linecap=\"round\" \n",
              "            fill=\"transparent\" fill-opacity=\"0\" style=\"stroke:black;stroke-width:1\"/><path d=\"M 486.603 150.0 A 100 100 0 0 0 470.711 129.289\" stroke-linecap=\"round\" \n",
              "            fill=\"transparent\" fill-opacity=\"0\" style=\"stroke:black;stroke-width:1\"/><path d=\"M 470.711 129.289 A 100 100 0 0 0 450.0 113.397\" stroke-linecap=\"round\" \n",
              "            fill=\"transparent\" fill-opacity=\"0\" style=\"stroke:black;stroke-width:1\"/><path d=\"M 450.0 113.397 A 100 100 0 0 0 425.882 103.407\" stroke-linecap=\"round\" \n",
              "            fill=\"transparent\" fill-opacity=\"0\" style=\"stroke:black;stroke-width:1\"/><path d=\"M 425.882 103.407 A 100 100 0 0 0 400.0 100.0\" stroke-linecap=\"round\" \n",
              "            fill=\"transparent\" fill-opacity=\"0\" style=\"stroke:black;stroke-width:1\"/><path d=\"M 400.0 100.0 A 100 100 0 0 0 374.118 103.407\" stroke-linecap=\"round\" \n",
              "            fill=\"transparent\" fill-opacity=\"0\" style=\"stroke:black;stroke-width:1\"/><path d=\"M 374.118 103.407 A 100 100 0 0 0 350.0 113.397\" stroke-linecap=\"round\" \n",
              "            fill=\"transparent\" fill-opacity=\"0\" style=\"stroke:black;stroke-width:1\"/><path d=\"M 350.0 113.397 A 100 100 0 0 0 329.289 129.289\" stroke-linecap=\"round\" \n",
              "            fill=\"transparent\" fill-opacity=\"0\" style=\"stroke:black;stroke-width:1\"/><path d=\"M 329.289 129.289 A 100 100 0 0 0 313.397 150.0\" stroke-linecap=\"round\" \n",
              "            fill=\"transparent\" fill-opacity=\"0\" style=\"stroke:black;stroke-width:1\"/><path d=\"M 313.397 150.0 A 100 100 0 0 0 303.407 174.118\" stroke-linecap=\"round\" \n",
              "            fill=\"transparent\" fill-opacity=\"0\" style=\"stroke:black;stroke-width:1\"/><path d=\"M 303.407 174.118 A 100 100 0 0 0 300.0 200.0\" stroke-linecap=\"round\" \n",
              "            fill=\"transparent\" fill-opacity=\"0\" style=\"stroke:black;stroke-width:1\"/><path d=\"M 300.0 200.0 A 100 100 0 0 0 303.407 225.882\" stroke-linecap=\"round\" \n",
              "            fill=\"transparent\" fill-opacity=\"0\" style=\"stroke:black;stroke-width:1\"/><path d=\"M 303.407 225.882 A 100 100 0 0 0 313.397 250.0\" stroke-linecap=\"round\" \n",
              "            fill=\"transparent\" fill-opacity=\"0\" style=\"stroke:black;stroke-width:1\"/><path d=\"M 313.397 250.0 A 100 100 0 0 0 329.289 270.711\" stroke-linecap=\"round\" \n",
              "            fill=\"transparent\" fill-opacity=\"0\" style=\"stroke:black;stroke-width:1\"/><path d=\"M 329.289 270.711 A 100 100 0 0 0 350.0 286.603\" stroke-linecap=\"round\" \n",
              "            fill=\"transparent\" fill-opacity=\"0\" style=\"stroke:black;stroke-width:1\"/><path d=\"M 350.0 286.603 A 100 100 0 0 0 374.118 296.593\" stroke-linecap=\"round\" \n",
              "            fill=\"transparent\" fill-opacity=\"0\" style=\"stroke:black;stroke-width:1\"/><path d=\"M 374.118 296.593 A 100 100 0 0 0 400.0 300.0\" stroke-linecap=\"round\" \n",
              "            fill=\"transparent\" fill-opacity=\"0\" style=\"stroke:black;stroke-width:1\"/>\n",
              "        \n",
              "        \n",
              "        <g id=\"classic\" visibility=\"visible\" transform=\"rotate(-90,400.0,300.0) translate(400.0, 300.0)\">\n",
              "<polygon points=\"-5,-4.5 0,-2.5 5,-4.5 0,4.5\" transform=\"skewX(0) scale(1,1)\" style=\"stroke:black;fill:black;stroke-width:1\" />\n",
              "</g><g id=\"turtle\" visibility=\"visible\" transform=\"rotate(90.0,400.0,300.0) translate(400.0, 300.0)\">\n",
              "<path style=\"stroke:black;fill-rule:evenodd;fill:black;fill-opacity:1;\" transform=\"skewX(0) scale(1,1)\" d=\"m 1.1536693,-18.56101 c -2.105469,1.167969 -3.203125,3.441407 -3.140625,6.5 l 0.011719,0.519532 -0.300782,-0.15625 c -1.308594,-0.671875 -2.828125,-0.824219 -4.378906,-0.429688 -1.9375,0.484375 -3.8906253,2.089844 -6.0117193,4.9257825 -1.332031,1.785156 -1.714843,2.644531 -1.351562,3.035156 l 0.113281,0.125 h 0.363281 c 0.71875,0 1.308594,-0.265625 4.6679693,-2.113282 1.199219,-0.660156 2.183594,-1.199218 2.191406,-1.199218 0.00781,0 -0.023437,0.089844 -0.074218,0.195312 -0.472657,1.058594 -1.046876,2.785156 -1.335938,4.042969 -1.054688,4.574219 -0.351562,8.453125 2.101562,11.582031 0.28125,0.355469 0.292969,0.253906 -0.097656,0.722656 -2.046875,2.4609375 -3.027344,4.8984375 -2.734375,6.8046875 0.050781,0.339844 0.042969,0.335938 0.679688,0.335938 2.023437,0 4.15625,-1.316407 6.21875,-3.835938 0.222656,-0.269531 0.191406,-0.261719 0.425781,-0.113281 0.730469,0.46875 2.460938,1.390625 2.613281,1.390625 0.160157,0 1.765625,-0.753906 2.652344,-1.246094 0.167969,-0.09375 0.308594,-0.164062 0.308594,-0.160156 0.066406,0.105468 0.761719,0.855468 1.085937,1.171875 1.613282,1.570312 3.339844,2.402343 5.3593747,2.570312 0.324219,0.02734 0.355469,0.0078 0.425781,-0.316406 0.375,-1.742187 -0.382812,-4.058594 -2.1445307,-6.5585935 l -0.320312,-0.457031 0.15625,-0.183594 c 3.2460927,-3.824218 3.4335927,-9.08593704 0.558593,-15.816406 l -0.050781,-0.125 1.7382807,0.859375 c 3.585938,1.773437 4.371094,2.097656 5.085938,2.097656 0.945312,0 0.75,-0.863281 -0.558594,-2.507812 C 11.458356,-11.838353 8.3333563,-13.268041 4.8607003,-11.721166 l -0.363281,0.164063 0.019531,-0.09375 c 0.121094,-0.550781 0.183594,-1.800781 0.121094,-2.378907 -0.203125,-1.867187 -1.035157,-3.199218 -2.695313,-4.308593 -0.523437,-0.351563 -0.546875,-0.355469 -0.789062,-0.222657\" />\n",
              "</g><g id=\"classic\" visibility=\"visible\" transform=\"rotate(-90,400.0,300.0) translate(400.0, 300.0)\">\n",
              "<polygon points=\"-5,-4.5 0,-2.5 5,-4.5 0,4.5\" transform=\"skewX(0) scale(1,1)\" style=\"stroke:black;fill:black;stroke-width:1\" />\n",
              "</g><g id=\"classic\" visibility=\"visible\" transform=\"rotate(-90,400.0,300.0) translate(400.0, 300.0)\">\n",
              "<polygon points=\"-5,-4.5 0,-2.5 5,-4.5 0,4.5\" transform=\"skewX(0) scale(1,1)\" style=\"stroke:black;fill:black;stroke-width:1\" />\n",
              "</g><g id=\"classic\" visibility=\"visible\" transform=\"rotate(-90,400.0,300.0) translate(400.0, 300.0)\">\n",
              "<polygon points=\"-5,-4.5 0,-2.5 5,-4.5 0,4.5\" transform=\"skewX(0) scale(1,1)\" style=\"stroke:black;fill:black;stroke-width:1\" />\n",
              "</g><g id=\"classic\" visibility=\"visible\" transform=\"rotate(-90,400.0,300.0) translate(400.0, 300.0)\">\n",
              "<polygon points=\"-5,-4.5 0,-2.5 5,-4.5 0,4.5\" transform=\"skewX(0) scale(1,1)\" style=\"stroke:black;fill:black;stroke-width:1\" />\n",
              "</g><g id=\"classic\" visibility=\"visible\" transform=\"rotate(-90,400.0,300.0) translate(400.0, 300.0)\">\n",
              "<polygon points=\"-5,-4.5 0,-2.5 5,-4.5 0,4.5\" transform=\"skewX(0) scale(1,1)\" style=\"stroke:black;fill:black;stroke-width:1\" />\n",
              "</g><g id=\"classic\" visibility=\"visible\" transform=\"rotate(-90,400.0,300.0) translate(400.0, 300.0)\">\n",
              "<polygon points=\"-5,-4.5 0,-2.5 5,-4.5 0,4.5\" transform=\"skewX(0) scale(1,1)\" style=\"stroke:black;fill:black;stroke-width:1\" />\n",
              "</g><g id=\"classic\" visibility=\"visible\" transform=\"rotate(-90,400.0,300.0) translate(400.0, 300.0)\">\n",
              "<polygon points=\"-5,-4.5 0,-2.5 5,-4.5 0,4.5\" transform=\"skewX(0) scale(1,1)\" style=\"stroke:black;fill:black;stroke-width:1\" />\n",
              "</g>\n",
              "      </svg>\n",
              "    "
            ]
          },
          "metadata": {}
        }
      ]
    },
    {
      "cell_type": "markdown",
      "source": [
        "미션!\n",
        "위의 코드를 활용해서 아래 조건을 만족하는 도형을 그려보세요~\n",
        "\n",
        "*   pensize = 마음대로\n",
        "*   지름의 크기 = 마음대로\n",
        "*   도형 = 별\n",
        "*   원의 테두리과 채우기 색상 = 마음대로\n",
        "\n",
        "-> 위의 +코드 버튼을 클릭하고 해보세요\n"
      ],
      "metadata": {
        "id": "7lfgNHEAPQuv"
      }
    },
    {
      "cell_type": "code",
      "source": [
        "!pip install ColabTurtlePlus\n",
        "from ColabTurtlePlus.Turtle import *\n",
        "\n",
        "t= Turtle\n",
        "shape(\"turtle\")\n",
        "pensize(2)\n",
        "initializeTurtle()\n",
        "\n",
        "for i in range(5):\n",
        "  forward(100)\n",
        "  left(144)\n",
        "  forward(100)"
      ],
      "metadata": {
        "colab": {
          "base_uri": "https://localhost:8080/",
          "height": 656
        },
        "id": "gRkw5bR-EWOu",
        "outputId": "e968d1cd-aed9-4378-b48b-012e667ccf8b"
      },
      "execution_count": null,
      "outputs": [
        {
          "output_type": "stream",
          "name": "stdout",
          "text": [
            "Looking in indexes: https://pypi.org/simple, https://us-python.pkg.dev/colab-wheels/public/simple/\n",
            "Requirement already satisfied: ColabTurtlePlus in /usr/local/lib/python3.7/dist-packages (2.0.1)\n"
          ]
        },
        {
          "output_type": "display_data",
          "data": {
            "text/plain": [
              "<IPython.core.display.HTML object>"
            ],
            "text/html": [
              "\n",
              "      <svg width=\"800\" height=\"600\">  \n",
              "        <rect width=\"100%\" height=\"100%\" style=\"fill:white;stroke:;stroke-width:1\"/>\n",
              "        \n",
              "        \n",
              "        <line x1=\"400.0\" y1=\"300.0\" x2=\"500.0\" y2=\"300.0\" stroke-linecap=\"round\" style=\"stroke:black;stroke-width:1\" /><line x1=\"500.0\" y1=\"300.0\" x2=\"419.098\" y2=\"241.221\" stroke-linecap=\"round\" style=\"stroke:black;stroke-width:1\" /><line x1=\"419.098\" y1=\"241.221\" x2=\"338.196\" y2=\"182.442\" stroke-linecap=\"round\" style=\"stroke:black;stroke-width:1\" /><line x1=\"338.196\" y1=\"182.442\" x2=\"369.098\" y2=\"277.548\" stroke-linecap=\"round\" style=\"stroke:black;stroke-width:1\" /><line x1=\"369.098\" y1=\"277.548\" x2=\"400.0\" y2=\"372.654\" stroke-linecap=\"round\" style=\"stroke:black;stroke-width:1\" /><line x1=\"400.0\" y1=\"372.654\" x2=\"430.902\" y2=\"277.548\" stroke-linecap=\"round\" style=\"stroke:black;stroke-width:1\" /><line x1=\"430.902\" y1=\"277.548\" x2=\"461.804\" y2=\"182.442\" stroke-linecap=\"round\" style=\"stroke:black;stroke-width:1\" /><line x1=\"461.804\" y1=\"182.442\" x2=\"380.902\" y2=\"241.221\" stroke-linecap=\"round\" style=\"stroke:black;stroke-width:1\" /><line x1=\"380.902\" y1=\"241.221\" x2=\"300.0\" y2=\"300.0\" stroke-linecap=\"round\" style=\"stroke:black;stroke-width:1\" /><line x1=\"300.0\" y1=\"300.0\" x2=\"310.0\" y2=\"300.0\" stroke-linecap=\"round\" style=\"stroke:black;stroke-width:1\" /><line x1=\"310.0\" y1=\"300.0\" x2=\"320.0\" y2=\"300.0\" stroke-linecap=\"round\" style=\"stroke:black;stroke-width:1\" /><line x1=\"320.0\" y1=\"300.0\" x2=\"330.0\" y2=\"300.0\" stroke-linecap=\"round\" style=\"stroke:black;stroke-width:1\" /><line x1=\"330.0\" y1=\"300.0\" x2=\"340.0\" y2=\"300.0\" stroke-linecap=\"round\" style=\"stroke:black;stroke-width:1\" /><line x1=\"340.0\" y1=\"300.0\" x2=\"350.0\" y2=\"300.0\" stroke-linecap=\"round\" style=\"stroke:black;stroke-width:1\" /><line x1=\"350.0\" y1=\"300.0\" x2=\"360.0\" y2=\"300.0\" stroke-linecap=\"round\" style=\"stroke:black;stroke-width:1\" /><line x1=\"360.0\" y1=\"300.0\" x2=\"370.0\" y2=\"300.0\" stroke-linecap=\"round\" style=\"stroke:black;stroke-width:1\" /><line x1=\"370.0\" y1=\"300.0\" x2=\"380.0\" y2=\"300.0\" stroke-linecap=\"round\" style=\"stroke:black;stroke-width:1\" /><line x1=\"380.0\" y1=\"300.0\" x2=\"390.0\" y2=\"300.0\" stroke-linecap=\"round\" style=\"stroke:black;stroke-width:1\" /><line x1=\"390.0\" y1=\"300.0\" x2=\"400.0\" y2=\"300.0\" stroke-linecap=\"round\" style=\"stroke:black;stroke-width:1\" />\n",
              "        \n",
              "        \n",
              "        <g id=\"classic\" visibility=\"visible\" transform=\"rotate(-90,400.0,300.0) translate(400.0, 300.0)\">\n",
              "<polygon points=\"-5,-4.5 0,-2.5 5,-4.5 0,4.5\" transform=\"skewX(0) scale(1,1)\" style=\"stroke:black;fill:black;stroke-width:1\" />\n",
              "</g><g id=\"turtle\" visibility=\"visible\" transform=\"rotate(90,400.0,300.0) translate(400.0, 300.0)\">\n",
              "<path style=\"stroke:black;fill-rule:evenodd;fill:black;fill-opacity:1;\" transform=\"skewX(0) scale(1,1)\" d=\"m 1.1536693,-18.56101 c -2.105469,1.167969 -3.203125,3.441407 -3.140625,6.5 l 0.011719,0.519532 -0.300782,-0.15625 c -1.308594,-0.671875 -2.828125,-0.824219 -4.378906,-0.429688 -1.9375,0.484375 -3.8906253,2.089844 -6.0117193,4.9257825 -1.332031,1.785156 -1.714843,2.644531 -1.351562,3.035156 l 0.113281,0.125 h 0.363281 c 0.71875,0 1.308594,-0.265625 4.6679693,-2.113282 1.199219,-0.660156 2.183594,-1.199218 2.191406,-1.199218 0.00781,0 -0.023437,0.089844 -0.074218,0.195312 -0.472657,1.058594 -1.046876,2.785156 -1.335938,4.042969 -1.054688,4.574219 -0.351562,8.453125 2.101562,11.582031 0.28125,0.355469 0.292969,0.253906 -0.097656,0.722656 -2.046875,2.4609375 -3.027344,4.8984375 -2.734375,6.8046875 0.050781,0.339844 0.042969,0.335938 0.679688,0.335938 2.023437,0 4.15625,-1.316407 6.21875,-3.835938 0.222656,-0.269531 0.191406,-0.261719 0.425781,-0.113281 0.730469,0.46875 2.460938,1.390625 2.613281,1.390625 0.160157,0 1.765625,-0.753906 2.652344,-1.246094 0.167969,-0.09375 0.308594,-0.164062 0.308594,-0.160156 0.066406,0.105468 0.761719,0.855468 1.085937,1.171875 1.613282,1.570312 3.339844,2.402343 5.3593747,2.570312 0.324219,0.02734 0.355469,0.0078 0.425781,-0.316406 0.375,-1.742187 -0.382812,-4.058594 -2.1445307,-6.5585935 l -0.320312,-0.457031 0.15625,-0.183594 c 3.2460927,-3.824218 3.4335927,-9.08593704 0.558593,-15.816406 l -0.050781,-0.125 1.7382807,0.859375 c 3.585938,1.773437 4.371094,2.097656 5.085938,2.097656 0.945312,0 0.75,-0.863281 -0.558594,-2.507812 C 11.458356,-11.838353 8.3333563,-13.268041 4.8607003,-11.721166 l -0.363281,0.164063 0.019531,-0.09375 c 0.121094,-0.550781 0.183594,-1.800781 0.121094,-2.378907 -0.203125,-1.867187 -1.035157,-3.199218 -2.695313,-4.308593 -0.523437,-0.351563 -0.546875,-0.355469 -0.789062,-0.222657\" />\n",
              "</g><g id=\"classic\" visibility=\"visible\" transform=\"rotate(-90,400.0,300.0) translate(400.0, 300.0)\">\n",
              "<polygon points=\"-5,-4.5 0,-2.5 5,-4.5 0,4.5\" transform=\"skewX(0) scale(1,1)\" style=\"stroke:black;fill:black;stroke-width:1\" />\n",
              "</g><g id=\"classic\" visibility=\"visible\" transform=\"rotate(-90,400.0,300.0) translate(400.0, 300.0)\">\n",
              "<polygon points=\"-5,-4.5 0,-2.5 5,-4.5 0,4.5\" transform=\"skewX(0) scale(1,1)\" style=\"stroke:black;fill:black;stroke-width:1\" />\n",
              "</g><g id=\"classic\" visibility=\"visible\" transform=\"rotate(-90,400.0,300.0) translate(400.0, 300.0)\">\n",
              "<polygon points=\"-5,-4.5 0,-2.5 5,-4.5 0,4.5\" transform=\"skewX(0) scale(1,1)\" style=\"stroke:black;fill:black;stroke-width:1\" />\n",
              "</g><g id=\"classic\" visibility=\"visible\" transform=\"rotate(-90,400.0,300.0) translate(400.0, 300.0)\">\n",
              "<polygon points=\"-5,-4.5 0,-2.5 5,-4.5 0,4.5\" transform=\"skewX(0) scale(1,1)\" style=\"stroke:black;fill:black;stroke-width:1\" />\n",
              "</g><g id=\"classic\" visibility=\"visible\" transform=\"rotate(-90,400.0,300.0) translate(400.0, 300.0)\">\n",
              "<polygon points=\"-5,-4.5 0,-2.5 5,-4.5 0,4.5\" transform=\"skewX(0) scale(1,1)\" style=\"stroke:black;fill:black;stroke-width:1\" />\n",
              "</g><g id=\"classic\" visibility=\"visible\" transform=\"rotate(-90,400.0,300.0) translate(400.0, 300.0)\">\n",
              "<polygon points=\"-5,-4.5 0,-2.5 5,-4.5 0,4.5\" transform=\"skewX(0) scale(1,1)\" style=\"stroke:black;fill:black;stroke-width:1\" />\n",
              "</g><g id=\"classic\" visibility=\"visible\" transform=\"rotate(-90,400.0,300.0) translate(400.0, 300.0)\">\n",
              "<polygon points=\"-5,-4.5 0,-2.5 5,-4.5 0,4.5\" transform=\"skewX(0) scale(1,1)\" style=\"stroke:black;fill:black;stroke-width:1\" />\n",
              "</g>\n",
              "      </svg>\n",
              "    "
            ]
          },
          "metadata": {}
        }
      ]
    },
    {
      "cell_type": "code",
      "source": [
        "!pip install ColabTurtlePlus\n",
        "from ColabTurtlePlus.Turtle import *\n",
        "\n",
        "t= Turtle\n",
        "shape(\"turtle\")\n",
        "pensize(2)\n",
        "initializeTurtle()\n",
        "\n",
        "for i in range(5):\n",
        "  forward(100)\n",
        "  left(144)\n",
        "  forward(100)\n",
        "  right(72)"
      ],
      "metadata": {
        "colab": {
          "base_uri": "https://localhost:8080/",
          "height": 656
        },
        "id": "2q9jw5NTFnEn",
        "outputId": "f66d8fd4-e03c-453d-cbb6-d1dc0e89f36e"
      },
      "execution_count": null,
      "outputs": [
        {
          "output_type": "stream",
          "name": "stdout",
          "text": [
            "Looking in indexes: https://pypi.org/simple, https://us-python.pkg.dev/colab-wheels/public/simple/\n",
            "Requirement already satisfied: ColabTurtlePlus in /usr/local/lib/python3.7/dist-packages (2.0.1)\n"
          ]
        },
        {
          "output_type": "display_data",
          "data": {
            "text/plain": [
              "<IPython.core.display.HTML object>"
            ],
            "text/html": [
              "\n",
              "      <svg width=\"800\" height=\"600\">  \n",
              "        <rect width=\"100%\" height=\"100%\" style=\"fill:white;stroke:;stroke-width:1\"/>\n",
              "        \n",
              "        \n",
              "        <line x1=\"400.0\" y1=\"300.0\" x2=\"500.0\" y2=\"300.0\" stroke-linecap=\"round\" style=\"stroke:black;stroke-width:1\" /><line x1=\"500.0\" y1=\"300.0\" x2=\"419.098\" y2=\"241.221\" stroke-linecap=\"round\" style=\"stroke:black;stroke-width:1\" /><line x1=\"419.098\" y1=\"241.221\" x2=\"450.0\" y2=\"146.115\" stroke-linecap=\"round\" style=\"stroke:black;stroke-width:1\" /><line x1=\"450.0\" y1=\"146.115\" x2=\"369.098\" y2=\"204.894\" stroke-linecap=\"round\" style=\"stroke:black;stroke-width:1\" /><line x1=\"369.098\" y1=\"204.894\" x2=\"288.196\" y2=\"146.115\" stroke-linecap=\"round\" style=\"stroke:black;stroke-width:1\" /><line x1=\"288.196\" y1=\"146.115\" x2=\"319.098\" y2=\"241.221\" stroke-linecap=\"round\" style=\"stroke:black;stroke-width:1\" /><line x1=\"319.098\" y1=\"241.221\" x2=\"238.196\" y2=\"300.0\" stroke-linecap=\"round\" style=\"stroke:black;stroke-width:1\" /><line x1=\"238.196\" y1=\"300.0\" x2=\"338.196\" y2=\"300.0\" stroke-linecap=\"round\" style=\"stroke:black;stroke-width:1\" /><line x1=\"338.196\" y1=\"300.0\" x2=\"369.098\" y2=\"395.106\" stroke-linecap=\"round\" style=\"stroke:black;stroke-width:1\" /><line x1=\"369.098\" y1=\"395.106\" x2=\"400.0\" y2=\"300.0\" stroke-linecap=\"round\" style=\"stroke:black;stroke-width:1\" />\n",
              "        \n",
              "        \n",
              "        <g id=\"classic\" visibility=\"visible\" transform=\"rotate(-90,400.0,300.0) translate(400.0, 300.0)\">\n",
              "<polygon points=\"-5,-4.5 0,-2.5 5,-4.5 0,4.5\" transform=\"skewX(0) scale(1,1)\" style=\"stroke:black;fill:black;stroke-width:1\" />\n",
              "</g><g id=\"turtle\" visibility=\"visible\" transform=\"rotate(378,400.0,300.0) translate(400.0, 300.0)\">\n",
              "<path style=\"stroke:black;fill-rule:evenodd;fill:black;fill-opacity:1;\" transform=\"skewX(0) scale(1,1)\" d=\"m 1.1536693,-18.56101 c -2.105469,1.167969 -3.203125,3.441407 -3.140625,6.5 l 0.011719,0.519532 -0.300782,-0.15625 c -1.308594,-0.671875 -2.828125,-0.824219 -4.378906,-0.429688 -1.9375,0.484375 -3.8906253,2.089844 -6.0117193,4.9257825 -1.332031,1.785156 -1.714843,2.644531 -1.351562,3.035156 l 0.113281,0.125 h 0.363281 c 0.71875,0 1.308594,-0.265625 4.6679693,-2.113282 1.199219,-0.660156 2.183594,-1.199218 2.191406,-1.199218 0.00781,0 -0.023437,0.089844 -0.074218,0.195312 -0.472657,1.058594 -1.046876,2.785156 -1.335938,4.042969 -1.054688,4.574219 -0.351562,8.453125 2.101562,11.582031 0.28125,0.355469 0.292969,0.253906 -0.097656,0.722656 -2.046875,2.4609375 -3.027344,4.8984375 -2.734375,6.8046875 0.050781,0.339844 0.042969,0.335938 0.679688,0.335938 2.023437,0 4.15625,-1.316407 6.21875,-3.835938 0.222656,-0.269531 0.191406,-0.261719 0.425781,-0.113281 0.730469,0.46875 2.460938,1.390625 2.613281,1.390625 0.160157,0 1.765625,-0.753906 2.652344,-1.246094 0.167969,-0.09375 0.308594,-0.164062 0.308594,-0.160156 0.066406,0.105468 0.761719,0.855468 1.085937,1.171875 1.613282,1.570312 3.339844,2.402343 5.3593747,2.570312 0.324219,0.02734 0.355469,0.0078 0.425781,-0.316406 0.375,-1.742187 -0.382812,-4.058594 -2.1445307,-6.5585935 l -0.320312,-0.457031 0.15625,-0.183594 c 3.2460927,-3.824218 3.4335927,-9.08593704 0.558593,-15.816406 l -0.050781,-0.125 1.7382807,0.859375 c 3.585938,1.773437 4.371094,2.097656 5.085938,2.097656 0.945312,0 0.75,-0.863281 -0.558594,-2.507812 C 11.458356,-11.838353 8.3333563,-13.268041 4.8607003,-11.721166 l -0.363281,0.164063 0.019531,-0.09375 c 0.121094,-0.550781 0.183594,-1.800781 0.121094,-2.378907 -0.203125,-1.867187 -1.035157,-3.199218 -2.695313,-4.308593 -0.523437,-0.351563 -0.546875,-0.355469 -0.789062,-0.222657\" />\n",
              "<animateTransform id = \"one\" attributeName=\"transform\" \n",
              "                      type=\"scale\"\n",
              "                      from=\"1 1\" to=\"1 1\"\n",
              "                      begin=\"0s\" dur=\"0.01s\"\n",
              "                      repeatCount=\"1\"\n",
              "                      additive=\"sum\"\n",
              "                      fill=\"freeze\"\n",
              "                /><animateTransform attributeName=\"transform\"\n",
              "                    type=\"rotate\"\n",
              "                    from=\"0 0 0\" to =\"72 0 0\"\n",
              "                    begin=\"one.end\" dur=\"0.2s\"\n",
              "                    repeatCount=\"1\"\n",
              "                    additive=\"sum\"\n",
              "                    fill=\"freeze\"\n",
              "                /></g><g id=\"classic\" visibility=\"visible\" transform=\"rotate(-90,400.0,300.0) translate(400.0, 300.0)\">\n",
              "<polygon points=\"-5,-4.5 0,-2.5 5,-4.5 0,4.5\" transform=\"skewX(0) scale(1,1)\" style=\"stroke:black;fill:black;stroke-width:1\" />\n",
              "</g><g id=\"classic\" visibility=\"visible\" transform=\"rotate(-90,400.0,300.0) translate(400.0, 300.0)\">\n",
              "<polygon points=\"-5,-4.5 0,-2.5 5,-4.5 0,4.5\" transform=\"skewX(0) scale(1,1)\" style=\"stroke:black;fill:black;stroke-width:1\" />\n",
              "</g><g id=\"classic\" visibility=\"visible\" transform=\"rotate(-90,400.0,300.0) translate(400.0, 300.0)\">\n",
              "<polygon points=\"-5,-4.5 0,-2.5 5,-4.5 0,4.5\" transform=\"skewX(0) scale(1,1)\" style=\"stroke:black;fill:black;stroke-width:1\" />\n",
              "</g><g id=\"classic\" visibility=\"visible\" transform=\"rotate(-90,400.0,300.0) translate(400.0, 300.0)\">\n",
              "<polygon points=\"-5,-4.5 0,-2.5 5,-4.5 0,4.5\" transform=\"skewX(0) scale(1,1)\" style=\"stroke:black;fill:black;stroke-width:1\" />\n",
              "</g><g id=\"classic\" visibility=\"visible\" transform=\"rotate(-90,400.0,300.0) translate(400.0, 300.0)\">\n",
              "<polygon points=\"-5,-4.5 0,-2.5 5,-4.5 0,4.5\" transform=\"skewX(0) scale(1,1)\" style=\"stroke:black;fill:black;stroke-width:1\" />\n",
              "</g><g id=\"classic\" visibility=\"visible\" transform=\"rotate(-90,400.0,300.0) translate(400.0, 300.0)\">\n",
              "<polygon points=\"-5,-4.5 0,-2.5 5,-4.5 0,4.5\" transform=\"skewX(0) scale(1,1)\" style=\"stroke:black;fill:black;stroke-width:1\" />\n",
              "</g><g id=\"classic\" visibility=\"visible\" transform=\"rotate(-90,400.0,300.0) translate(400.0, 300.0)\">\n",
              "<polygon points=\"-5,-4.5 0,-2.5 5,-4.5 0,4.5\" transform=\"skewX(0) scale(1,1)\" style=\"stroke:black;fill:black;stroke-width:1\" />\n",
              "</g>\n",
              "      </svg>\n",
              "    "
            ]
          },
          "metadata": {}
        }
      ]
    },
    {
      "cell_type": "markdown",
      "source": [
        "미션!\n",
        "위의 코드를 활용해서 아래 조건을 만족하는 도형을 그려보세요~\n",
        "\n",
        "*   pensize와 색상(채우기도 하기)을 이용해서 집 도형을 그려주세요.\n",
        "\n",
        "-> 위의 +코드 버튼을 클릭하고 해보세요\n"
      ],
      "metadata": {
        "id": "YIAMeKoAf2rs"
      }
    },
    {
      "cell_type": "code",
      "source": [
        "!pip install ColabTurtlePlus\n",
        "from ColabTurtlePlus.Turtle import *\n",
        "\n",
        "t= Turtle\n",
        "shape(\"turtle\")\n",
        "pensize(2)\n",
        "initializeTurtle()\n",
        "color(\"brown\")\n",
        "begin_fill()\n",
        "\n",
        "for i in range(4):\n",
        "  forward(100)\n",
        "  right(90)\n",
        "end_fill()\n",
        "\n",
        "color(\"yellow\")\n",
        "begin_fill()\n",
        "\n",
        "for i in range(3):\n",
        "  forward(100)\n",
        "  left(120)  \n",
        "\n",
        "end_fill()\n",
        "\n",
        "penup()\n",
        "color(\"black\")\n",
        "goto(25, -25)\n",
        "pendown()\n",
        "for i in range(4):\n",
        "  forward(50)\n",
        "  right(90)\n",
        "\n",
        "forward(25)\n",
        "right(90)\n",
        "forward(50)\n",
        "right(90)\n",
        "forward(25)\n",
        "right(90)\n",
        "forward(25)\n",
        "right(90)\n",
        "forward(50)"
      ],
      "metadata": {
        "colab": {
          "base_uri": "https://localhost:8080/",
          "height": 656
        },
        "id": "yqVtopIMHMNg",
        "outputId": "da424a4b-4cdb-4f76-ce3a-f24aaa836eae"
      },
      "execution_count": null,
      "outputs": [
        {
          "output_type": "stream",
          "name": "stdout",
          "text": [
            "Looking in indexes: https://pypi.org/simple, https://us-python.pkg.dev/colab-wheels/public/simple/\n",
            "Requirement already satisfied: ColabTurtlePlus in /usr/local/lib/python3.7/dist-packages (2.0.1)\n"
          ]
        },
        {
          "output_type": "display_data",
          "data": {
            "text/plain": [
              "<IPython.core.display.HTML object>"
            ],
            "text/html": [
              "\n",
              "      <svg width=\"800\" height=\"600\">  \n",
              "        <rect width=\"100%\" height=\"100%\" style=\"fill:white;stroke:;stroke-width:1\"/>\n",
              "        \n",
              "        \n",
              "        <path fill-rule=\"evenodd\" fill-opacity=\"1\" d=\"M 400.0 300.0  L 500.0 300.0  L 500.0 400.0  L 400.0 400.0  L 400.0 300.0 \" stroke-linecap=\"round\" style=\"stroke:brown;stroke-width:1\" fill=\"brown\" /><path fill-rule=\"evenodd\" fill-opacity=\"1\" d=\"M 400.0 300.0  L 500.0 300.0  L 450.0 213.397  L 400.0 300.0 \" stroke-linecap=\"round\" style=\"stroke:yellow;stroke-width:1\" fill=\"yellow\" /><line x1=\"425.0\" y1=\"325.0\" x2=\"475.0\" y2=\"325.0\" stroke-linecap=\"round\" style=\"stroke:black;stroke-width:1\" /><line x1=\"475.0\" y1=\"325.0\" x2=\"475.0\" y2=\"375.0\" stroke-linecap=\"round\" style=\"stroke:black;stroke-width:1\" /><line x1=\"475.0\" y1=\"375.0\" x2=\"425.0\" y2=\"375.0\" stroke-linecap=\"round\" style=\"stroke:black;stroke-width:1\" /><line x1=\"425.0\" y1=\"375.0\" x2=\"425.0\" y2=\"325.0\" stroke-linecap=\"round\" style=\"stroke:black;stroke-width:1\" /><line x1=\"425.0\" y1=\"325.0\" x2=\"450.0\" y2=\"325.0\" stroke-linecap=\"round\" style=\"stroke:black;stroke-width:1\" /><line x1=\"450.0\" y1=\"325.0\" x2=\"450.0\" y2=\"375.0\" stroke-linecap=\"round\" style=\"stroke:black;stroke-width:1\" /><line x1=\"450.0\" y1=\"375.0\" x2=\"425.0\" y2=\"375.0\" stroke-linecap=\"round\" style=\"stroke:black;stroke-width:1\" /><line x1=\"425.0\" y1=\"375.0\" x2=\"425.0\" y2=\"350.0\" stroke-linecap=\"round\" style=\"stroke:black;stroke-width:1\" /><line x1=\"425.0\" y1=\"350.0\" x2=\"435.0\" y2=\"350.0\" stroke-linecap=\"round\" style=\"stroke:black;stroke-width:1\" /><line x1=\"435.0\" y1=\"350.0\" x2=\"445.0\" y2=\"350.0\" stroke-linecap=\"round\" style=\"stroke:black;stroke-width:1\" /><line x1=\"445.0\" y1=\"350.0\" x2=\"455.0\" y2=\"350.0\" stroke-linecap=\"round\" style=\"stroke:black;stroke-width:1\" /><line x1=\"455.0\" y1=\"350.0\" x2=\"465.0\" y2=\"350.0\" stroke-linecap=\"round\" style=\"stroke:black;stroke-width:1\" /><line x1=\"465.0\" y1=\"350.0\" x2=\"475.0\" y2=\"350.0\" stroke-linecap=\"round\" style=\"stroke:black;stroke-width:1\" />\n",
              "        \n",
              "        \n",
              "        <g id=\"classic\" visibility=\"visible\" transform=\"rotate(-90,400.0,300.0) translate(400.0, 300.0)\">\n",
              "<polygon points=\"-5,-4.5 0,-2.5 5,-4.5 0,4.5\" transform=\"skewX(0) scale(1,1)\" style=\"stroke:black;fill:black;stroke-width:1\" />\n",
              "</g><g id=\"turtle\" visibility=\"visible\" transform=\"rotate(90,475.0,350.0) translate(475.0, 350.0)\">\n",
              "<path style=\"stroke:black;fill-rule:evenodd;fill:black;fill-opacity:1;\" transform=\"skewX(0) scale(1,1)\" d=\"m 1.1536693,-18.56101 c -2.105469,1.167969 -3.203125,3.441407 -3.140625,6.5 l 0.011719,0.519532 -0.300782,-0.15625 c -1.308594,-0.671875 -2.828125,-0.824219 -4.378906,-0.429688 -1.9375,0.484375 -3.8906253,2.089844 -6.0117193,4.9257825 -1.332031,1.785156 -1.714843,2.644531 -1.351562,3.035156 l 0.113281,0.125 h 0.363281 c 0.71875,0 1.308594,-0.265625 4.6679693,-2.113282 1.199219,-0.660156 2.183594,-1.199218 2.191406,-1.199218 0.00781,0 -0.023437,0.089844 -0.074218,0.195312 -0.472657,1.058594 -1.046876,2.785156 -1.335938,4.042969 -1.054688,4.574219 -0.351562,8.453125 2.101562,11.582031 0.28125,0.355469 0.292969,0.253906 -0.097656,0.722656 -2.046875,2.4609375 -3.027344,4.8984375 -2.734375,6.8046875 0.050781,0.339844 0.042969,0.335938 0.679688,0.335938 2.023437,0 4.15625,-1.316407 6.21875,-3.835938 0.222656,-0.269531 0.191406,-0.261719 0.425781,-0.113281 0.730469,0.46875 2.460938,1.390625 2.613281,1.390625 0.160157,0 1.765625,-0.753906 2.652344,-1.246094 0.167969,-0.09375 0.308594,-0.164062 0.308594,-0.160156 0.066406,0.105468 0.761719,0.855468 1.085937,1.171875 1.613282,1.570312 3.339844,2.402343 5.3593747,2.570312 0.324219,0.02734 0.355469,0.0078 0.425781,-0.316406 0.375,-1.742187 -0.382812,-4.058594 -2.1445307,-6.5585935 l -0.320312,-0.457031 0.15625,-0.183594 c 3.2460927,-3.824218 3.4335927,-9.08593704 0.558593,-15.816406 l -0.050781,-0.125 1.7382807,0.859375 c 3.585938,1.773437 4.371094,2.097656 5.085938,2.097656 0.945312,0 0.75,-0.863281 -0.558594,-2.507812 C 11.458356,-11.838353 8.3333563,-13.268041 4.8607003,-11.721166 l -0.363281,0.164063 0.019531,-0.09375 c 0.121094,-0.550781 0.183594,-1.800781 0.121094,-2.378907 -0.203125,-1.867187 -1.035157,-3.199218 -2.695313,-4.308593 -0.523437,-0.351563 -0.546875,-0.355469 -0.789062,-0.222657\" />\n",
              "</g><g id=\"classic\" visibility=\"visible\" transform=\"rotate(-90,400.0,300.0) translate(400.0, 300.0)\">\n",
              "<polygon points=\"-5,-4.5 0,-2.5 5,-4.5 0,4.5\" transform=\"skewX(0) scale(1,1)\" style=\"stroke:black;fill:black;stroke-width:1\" />\n",
              "</g><g id=\"classic\" visibility=\"visible\" transform=\"rotate(-90,400.0,300.0) translate(400.0, 300.0)\">\n",
              "<polygon points=\"-5,-4.5 0,-2.5 5,-4.5 0,4.5\" transform=\"skewX(0) scale(1,1)\" style=\"stroke:black;fill:black;stroke-width:1\" />\n",
              "</g><g id=\"classic\" visibility=\"visible\" transform=\"rotate(-90,400.0,300.0) translate(400.0, 300.0)\">\n",
              "<polygon points=\"-5,-4.5 0,-2.5 5,-4.5 0,4.5\" transform=\"skewX(0) scale(1,1)\" style=\"stroke:black;fill:black;stroke-width:1\" />\n",
              "</g><g id=\"classic\" visibility=\"visible\" transform=\"rotate(-90,400.0,300.0) translate(400.0, 300.0)\">\n",
              "<polygon points=\"-5,-4.5 0,-2.5 5,-4.5 0,4.5\" transform=\"skewX(0) scale(1,1)\" style=\"stroke:black;fill:black;stroke-width:1\" />\n",
              "</g><g id=\"classic\" visibility=\"visible\" transform=\"rotate(-90,400.0,300.0) translate(400.0, 300.0)\">\n",
              "<polygon points=\"-5,-4.5 0,-2.5 5,-4.5 0,4.5\" transform=\"skewX(0) scale(1,1)\" style=\"stroke:black;fill:black;stroke-width:1\" />\n",
              "</g><g id=\"classic\" visibility=\"visible\" transform=\"rotate(-90,400.0,300.0) translate(400.0, 300.0)\">\n",
              "<polygon points=\"-5,-4.5 0,-2.5 5,-4.5 0,4.5\" transform=\"skewX(0) scale(1,1)\" style=\"stroke:black;fill:black;stroke-width:1\" />\n",
              "</g><g id=\"classic\" visibility=\"visible\" transform=\"rotate(-90,400.0,300.0) translate(400.0, 300.0)\">\n",
              "<polygon points=\"-5,-4.5 0,-2.5 5,-4.5 0,4.5\" transform=\"skewX(0) scale(1,1)\" style=\"stroke:black;fill:black;stroke-width:1\" />\n",
              "</g>\n",
              "      </svg>\n",
              "    "
            ]
          },
          "metadata": {}
        }
      ]
    },
    {
      "cell_type": "markdown",
      "source": [
        "심화 미션! 위의 함수를 이용하여 아래 코드를 수정하고 오륜기를 그려보세요."
      ],
      "metadata": {
        "id": "eaNTJBzLfZ_U"
      }
    },
    {
      "cell_type": "code",
      "source": [
        "#터틀로 오륜기 그려보기\n",
        "!pip install ColabTurtlePlus\n",
        "from ColabTurtlePlus.Turtle import *\n",
        "t= Turtle\n",
        "shape(\"turtle\")\n",
        "pensize(60)\n",
        "initializeTurtle()\n",
        "color1 = ['blue','black','red','yellow','green']\n",
        "n = 0\n",
        "for i in range(3):\n",
        "  color(color1[n])\n",
        "  circle(50)\n",
        "  penup()\n",
        "  forward(105)\n",
        "  pendown()\n",
        "  n = n+1\n",
        "penup()\n",
        "goto(52.5,-60)\n",
        "pendown()\n",
        "for i in range(2):\n",
        "  color(color1[n])  \n",
        "  circle(50)\n",
        "  penup()\n",
        "  forward(110)\n",
        "  pendown()\n",
        "  n = n+1"
      ],
      "metadata": {
        "id": "eJpXnOrNP2t4",
        "colab": {
          "base_uri": "https://localhost:8080/",
          "height": 656
        },
        "outputId": "5c5235d8-8766-4c14-cf1e-1dc424f32d46"
      },
      "execution_count": null,
      "outputs": [
        {
          "output_type": "stream",
          "name": "stdout",
          "text": [
            "Looking in indexes: https://pypi.org/simple, https://us-python.pkg.dev/colab-wheels/public/simple/\n",
            "Requirement already satisfied: ColabTurtlePlus in /usr/local/lib/python3.7/dist-packages (2.0.1)\n"
          ]
        },
        {
          "output_type": "display_data",
          "data": {
            "text/plain": [
              "<IPython.core.display.HTML object>"
            ],
            "text/html": [
              "\n",
              "      <svg width=\"800\" height=\"600\">  \n",
              "        <rect width=\"100%\" height=\"100%\" style=\"fill:white;stroke:;stroke-width:1\"/>\n",
              "        \n",
              "        \n",
              "        <path d=\"M 400.0 300.0 A 50 50 0 0 0 400.0 200.0\" stroke-linecap=\"round\" \n",
              "            fill=\"transparent\" fill-opacity=\"0\" style=\"stroke:blue;stroke-width:1\"/><path d=\"M 400.0 200.0 A 50 50 0 0 0 400.0 300.0\" stroke-linecap=\"round\" \n",
              "            fill=\"transparent\" fill-opacity=\"0\" style=\"stroke:blue;stroke-width:1\"/><path d=\"M 505.0 300.0 A 50 50 0 0 0 505.0 200.0\" stroke-linecap=\"round\" \n",
              "            fill=\"transparent\" fill-opacity=\"0\" style=\"stroke:black;stroke-width:1\"/><path d=\"M 505.0 200.0 A 50 50 0 0 0 505.0 300.0\" stroke-linecap=\"round\" \n",
              "            fill=\"transparent\" fill-opacity=\"0\" style=\"stroke:black;stroke-width:1\"/><path d=\"M 610.0 300.0 A 50 50 0 0 0 610.0 200.0\" stroke-linecap=\"round\" \n",
              "            fill=\"transparent\" fill-opacity=\"0\" style=\"stroke:red;stroke-width:1\"/><path d=\"M 610.0 200.0 A 50 50 0 0 0 610.0 300.0\" stroke-linecap=\"round\" \n",
              "            fill=\"transparent\" fill-opacity=\"0\" style=\"stroke:red;stroke-width:1\"/><path d=\"M 452.5 360.0 A 50 50 0 0 0 452.5 260.0\" stroke-linecap=\"round\" \n",
              "            fill=\"transparent\" fill-opacity=\"0\" style=\"stroke:yellow;stroke-width:1\"/><path d=\"M 452.5 260.0 A 50 50 0 0 0 452.5 360.0\" stroke-linecap=\"round\" \n",
              "            fill=\"transparent\" fill-opacity=\"0\" style=\"stroke:yellow;stroke-width:1\"/><path d=\"M 562.5 360.0 A 50 50 0 0 0 562.5 260.0\" stroke-linecap=\"round\" \n",
              "            fill=\"transparent\" fill-opacity=\"0\" style=\"stroke:green;stroke-width:1\"/><path d=\"M 562.5 260.0 A 50 50 0 0 0 562.5 360.0\" stroke-linecap=\"round\" \n",
              "            fill=\"transparent\" fill-opacity=\"0\" style=\"stroke:green;stroke-width:1\"/>\n",
              "        \n",
              "        \n",
              "        <g id=\"classic\" visibility=\"visible\" transform=\"rotate(-90,400.0,300.0) translate(400.0, 300.0)\">\n",
              "<polygon points=\"-5,-4.5 0,-2.5 5,-4.5 0,4.5\" transform=\"skewX(0) scale(1,1)\" style=\"stroke:black;fill:black;stroke-width:1\" />\n",
              "</g><g id=\"turtle\" visibility=\"visible\" transform=\"rotate(90.0,672.5,360.0) translate(672.5, 360.0)\">\n",
              "<path style=\"stroke:green;fill-rule:evenodd;fill:green;fill-opacity:1;\" transform=\"skewX(0) scale(1,1)\" d=\"m 1.1536693,-18.56101 c -2.105469,1.167969 -3.203125,3.441407 -3.140625,6.5 l 0.011719,0.519532 -0.300782,-0.15625 c -1.308594,-0.671875 -2.828125,-0.824219 -4.378906,-0.429688 -1.9375,0.484375 -3.8906253,2.089844 -6.0117193,4.9257825 -1.332031,1.785156 -1.714843,2.644531 -1.351562,3.035156 l 0.113281,0.125 h 0.363281 c 0.71875,0 1.308594,-0.265625 4.6679693,-2.113282 1.199219,-0.660156 2.183594,-1.199218 2.191406,-1.199218 0.00781,0 -0.023437,0.089844 -0.074218,0.195312 -0.472657,1.058594 -1.046876,2.785156 -1.335938,4.042969 -1.054688,4.574219 -0.351562,8.453125 2.101562,11.582031 0.28125,0.355469 0.292969,0.253906 -0.097656,0.722656 -2.046875,2.4609375 -3.027344,4.8984375 -2.734375,6.8046875 0.050781,0.339844 0.042969,0.335938 0.679688,0.335938 2.023437,0 4.15625,-1.316407 6.21875,-3.835938 0.222656,-0.269531 0.191406,-0.261719 0.425781,-0.113281 0.730469,0.46875 2.460938,1.390625 2.613281,1.390625 0.160157,0 1.765625,-0.753906 2.652344,-1.246094 0.167969,-0.09375 0.308594,-0.164062 0.308594,-0.160156 0.066406,0.105468 0.761719,0.855468 1.085937,1.171875 1.613282,1.570312 3.339844,2.402343 5.3593747,2.570312 0.324219,0.02734 0.355469,0.0078 0.425781,-0.316406 0.375,-1.742187 -0.382812,-4.058594 -2.1445307,-6.5585935 l -0.320312,-0.457031 0.15625,-0.183594 c 3.2460927,-3.824218 3.4335927,-9.08593704 0.558593,-15.816406 l -0.050781,-0.125 1.7382807,0.859375 c 3.585938,1.773437 4.371094,2.097656 5.085938,2.097656 0.945312,0 0.75,-0.863281 -0.558594,-2.507812 C 11.458356,-11.838353 8.3333563,-13.268041 4.8607003,-11.721166 l -0.363281,0.164063 0.019531,-0.09375 c 0.121094,-0.550781 0.183594,-1.800781 0.121094,-2.378907 -0.203125,-1.867187 -1.035157,-3.199218 -2.695313,-4.308593 -0.523437,-0.351563 -0.546875,-0.355469 -0.789062,-0.222657\" />\n",
              "</g><g id=\"classic\" visibility=\"visible\" transform=\"rotate(-90,400.0,300.0) translate(400.0, 300.0)\">\n",
              "<polygon points=\"-5,-4.5 0,-2.5 5,-4.5 0,4.5\" transform=\"skewX(0) scale(1,1)\" style=\"stroke:black;fill:black;stroke-width:1\" />\n",
              "</g><g id=\"classic\" visibility=\"visible\" transform=\"rotate(-90,400.0,300.0) translate(400.0, 300.0)\">\n",
              "<polygon points=\"-5,-4.5 0,-2.5 5,-4.5 0,4.5\" transform=\"skewX(0) scale(1,1)\" style=\"stroke:black;fill:black;stroke-width:1\" />\n",
              "</g><g id=\"classic\" visibility=\"visible\" transform=\"rotate(-90,400.0,300.0) translate(400.0, 300.0)\">\n",
              "<polygon points=\"-5,-4.5 0,-2.5 5,-4.5 0,4.5\" transform=\"skewX(0) scale(1,1)\" style=\"stroke:black;fill:black;stroke-width:1\" />\n",
              "</g><g id=\"classic\" visibility=\"visible\" transform=\"rotate(-90,400.0,300.0) translate(400.0, 300.0)\">\n",
              "<polygon points=\"-5,-4.5 0,-2.5 5,-4.5 0,4.5\" transform=\"skewX(0) scale(1,1)\" style=\"stroke:black;fill:black;stroke-width:1\" />\n",
              "</g><g id=\"classic\" visibility=\"visible\" transform=\"rotate(-90,400.0,300.0) translate(400.0, 300.0)\">\n",
              "<polygon points=\"-5,-4.5 0,-2.5 5,-4.5 0,4.5\" transform=\"skewX(0) scale(1,1)\" style=\"stroke:black;fill:black;stroke-width:1\" />\n",
              "</g><g id=\"classic\" visibility=\"visible\" transform=\"rotate(-90,400.0,300.0) translate(400.0, 300.0)\">\n",
              "<polygon points=\"-5,-4.5 0,-2.5 5,-4.5 0,4.5\" transform=\"skewX(0) scale(1,1)\" style=\"stroke:black;fill:black;stroke-width:1\" />\n",
              "</g><g id=\"classic\" visibility=\"visible\" transform=\"rotate(-90,400.0,300.0) translate(400.0, 300.0)\">\n",
              "<polygon points=\"-5,-4.5 0,-2.5 5,-4.5 0,4.5\" transform=\"skewX(0) scale(1,1)\" style=\"stroke:black;fill:black;stroke-width:1\" />\n",
              "</g>\n",
              "      </svg>\n",
              "    "
            ]
          },
          "metadata": {}
        }
      ]
    },
    {
      "cell_type": "markdown",
      "source": [
        "자 터틀 모듈을 진행해보면서 코랩 환경에서의 시각화 방법을 알아봤어요. 데이터 분석은 주어진 데이터셋을 조건에 맞게 시각화 할 수 있어야하기 때문에 손풀기로 진행했습니다. "
      ],
      "metadata": {
        "id": "mtZEYXQ2gDiP"
      }
    },
    {
      "cell_type": "markdown",
      "source": [
        "# 데이터 분석을 위한 파이썬 문법 빠르게 훑기"
      ],
      "metadata": {
        "id": "fqJM7-XFg2RQ"
      }
    },
    {
      "cell_type": "markdown",
      "source": [
        "## 출력 print() \n",
        "\n",
        "**`print()`** 는 \n",
        " 화면 상에 출력되는 결과를 코드의 출력이라고 합니다.  \n",
        "\n",
        "\n",
        "아래와 같이 괄호 안에 다양한 메세지 또는 변수들을 넣어서 원하는 것을 출력하도록 할 수 있습니다.  \n",
        "\n"
      ],
      "metadata": {
        "id": "CMjVTka3ToAE"
      }
    },
    {
      "cell_type": "code",
      "source": [
        "#1\n",
        "print(\"python\")"
      ],
      "metadata": {
        "colab": {
          "base_uri": "https://localhost:8080/"
        },
        "id": "zOdbUuaNM_6B",
        "outputId": "34dc98e3-9dab-41d5-e973-fbdd7689bb7e"
      },
      "execution_count": null,
      "outputs": [
        {
          "output_type": "stream",
          "name": "stdout",
          "text": [
            "python\n"
          ]
        }
      ]
    },
    {
      "cell_type": "code",
      "source": [
        "#2\n",
        "print(5)"
      ],
      "metadata": {
        "colab": {
          "base_uri": "https://localhost:8080/"
        },
        "id": "qBUHhctaNh0J",
        "outputId": "25e02ce0-18cb-4357-fc67-aa661d6704d5"
      },
      "execution_count": null,
      "outputs": [
        {
          "output_type": "stream",
          "name": "stdout",
          "text": [
            "5\n"
          ]
        }
      ]
    },
    {
      "cell_type": "code",
      "source": [
        "#3\n",
        "print(\"coding\")"
      ],
      "metadata": {
        "colab": {
          "base_uri": "https://localhost:8080/"
        },
        "id": "Pmfnka53NkZ5",
        "outputId": "6d0b82b0-7103-4883-cc88-7f9c32392ad6"
      },
      "execution_count": null,
      "outputs": [
        {
          "output_type": "stream",
          "name": "stdout",
          "text": [
            "coding\n"
          ]
        }
      ]
    },
    {
      "cell_type": "code",
      "source": [
        "#4\n",
        "print(\"한글\")"
      ],
      "metadata": {
        "colab": {
          "base_uri": "https://localhost:8080/"
        },
        "id": "5u0arfPsNv7s",
        "outputId": "6747a468-f877-4fce-9156-1d1b273e6d64"
      },
      "execution_count": null,
      "outputs": [
        {
          "output_type": "stream",
          "name": "stdout",
          "text": [
            "한글\n"
          ]
        }
      ]
    },
    {
      "cell_type": "code",
      "source": [
        "#5\n",
        "print(\"나무\"*3)"
      ],
      "metadata": {
        "colab": {
          "base_uri": "https://localhost:8080/"
        },
        "id": "6wMQdDzCN6TG",
        "outputId": "04f55bde-a901-4241-faac-b6696e1111f4"
      },
      "execution_count": null,
      "outputs": [
        {
          "output_type": "stream",
          "name": "stdout",
          "text": [
            "나무나무나무\n"
          ]
        }
      ]
    },
    {
      "cell_type": "code",
      "source": [
        "#6\n",
        "print(\"2+5-1\")"
      ],
      "metadata": {
        "colab": {
          "base_uri": "https://localhost:8080/"
        },
        "id": "-mT0zQH6OBHS",
        "outputId": "54925d76-791a-4093-98ad-7eac87a8a275"
      },
      "execution_count": null,
      "outputs": [
        {
          "output_type": "stream",
          "name": "stdout",
          "text": [
            "2+5-1\n"
          ]
        }
      ]
    },
    {
      "cell_type": "code",
      "source": [
        "#7\n",
        "print(\"hi\"*2)\n",
        "print(\"hello\")"
      ],
      "metadata": {
        "colab": {
          "base_uri": "https://localhost:8080/"
        },
        "id": "Dx_Y29l5OFgB",
        "outputId": "4aacb6f7-a764-49ce-f317-ec74a817bf21"
      },
      "execution_count": null,
      "outputs": [
        {
          "output_type": "stream",
          "name": "stdout",
          "text": [
            "hihi\n",
            "hello\n"
          ]
        }
      ]
    },
    {
      "cell_type": "code",
      "source": [
        "#8\n",
        "print(555)\n",
        "print(\"01\"*3)"
      ],
      "metadata": {
        "colab": {
          "base_uri": "https://localhost:8080/"
        },
        "id": "ioZvpPykOYAE",
        "outputId": "a0995bb2-15df-41d2-82c5-24d51b199c88"
      },
      "execution_count": null,
      "outputs": [
        {
          "output_type": "stream",
          "name": "stdout",
          "text": [
            "555\n",
            "010101\n"
          ]
        }
      ]
    },
    {
      "cell_type": "code",
      "source": [
        "#9\n",
        "print(\"1+1\")\n",
        "print(111*2)"
      ],
      "metadata": {
        "id": "_5RirJSpOfXI"
      },
      "execution_count": null,
      "outputs": []
    },
    {
      "cell_type": "code",
      "source": [
        "#10\n",
        "print(\"5+5\"*2)\n",
        "print(5+5)"
      ],
      "metadata": {
        "colab": {
          "base_uri": "https://localhost:8080/"
        },
        "id": "EmqOc-I8O_YA",
        "outputId": "6eb05c5a-d599-4b51-cc97-2aaae073a28d"
      },
      "execution_count": null,
      "outputs": [
        {
          "output_type": "stream",
          "name": "stdout",
          "text": [
            "5+55+5\n",
            "10\n"
          ]
        }
      ]
    },
    {
      "cell_type": "code",
      "source": [
        "#11\n",
        "a = 4\n",
        "print(a)"
      ],
      "metadata": {
        "colab": {
          "base_uri": "https://localhost:8080/"
        },
        "id": "tNTXrMtoPGmM",
        "outputId": "ae358ba9-9802-449a-8632-1e8060ed426c"
      },
      "execution_count": null,
      "outputs": [
        {
          "output_type": "stream",
          "name": "stdout",
          "text": [
            "4\n"
          ]
        }
      ]
    },
    {
      "cell_type": "code",
      "source": [
        "#12\n",
        "b = 10\n",
        "print(\"b\")"
      ],
      "metadata": {
        "colab": {
          "base_uri": "https://localhost:8080/"
        },
        "id": "cEGvN0pgPMry",
        "outputId": "cbf12b1a-2b92-4531-8fac-5a0b55074fee"
      },
      "execution_count": null,
      "outputs": [
        {
          "output_type": "stream",
          "name": "stdout",
          "text": [
            "b\n"
          ]
        }
      ]
    },
    {
      "cell_type": "code",
      "source": [
        "#13\n",
        "n1 = input() # 15\n",
        "print(n1)"
      ],
      "metadata": {
        "colab": {
          "base_uri": "https://localhost:8080/"
        },
        "id": "MUZA56I7PV4H",
        "outputId": "cb77fbb2-69e2-4e8b-e024-71bed110415f"
      },
      "execution_count": null,
      "outputs": [
        {
          "output_type": "stream",
          "name": "stdout",
          "text": [
            "15\n",
            "15\n"
          ]
        }
      ]
    },
    {
      "cell_type": "code",
      "source": [
        "#14\n",
        "word = input() #파이썬"
      ],
      "metadata": {
        "id": "X_EUl1z0PmpO"
      },
      "execution_count": null,
      "outputs": []
    },
    {
      "cell_type": "code",
      "source": [
        "#15\n",
        "a = 10\n",
        "b = 20\n",
        "print(a+b)"
      ],
      "metadata": {
        "colab": {
          "base_uri": "https://localhost:8080/"
        },
        "id": "xf276W8CPwpg",
        "outputId": "35ac9bb7-f00c-4f34-8261-5adaff8b6335"
      },
      "execution_count": null,
      "outputs": [
        {
          "output_type": "stream",
          "name": "stdout",
          "text": [
            "30\n"
          ]
        }
      ]
    },
    {
      "cell_type": "code",
      "source": [
        "#16\n",
        "r = input() #P\n",
        "print(\"R\")"
      ],
      "metadata": {
        "colab": {
          "base_uri": "https://localhost:8080/"
        },
        "id": "DrCx43FnQkO9",
        "outputId": "6928d692-0342-432b-edc4-196fa71f34e3"
      },
      "execution_count": null,
      "outputs": [
        {
          "output_type": "stream",
          "name": "stdout",
          "text": [
            "P\n",
            "R\n"
          ]
        }
      ]
    },
    {
      "cell_type": "code",
      "source": [
        "#17\n",
        "p = input() #0123\n",
        "print(p)"
      ],
      "metadata": {
        "colab": {
          "base_uri": "https://localhost:8080/"
        },
        "id": "nibnnPAjQuRh",
        "outputId": "6e4e5b8c-1820-4bc2-9aca-57bd75181f42"
      },
      "execution_count": null,
      "outputs": [
        {
          "output_type": "stream",
          "name": "stdout",
          "text": [
            "0123\n",
            "0123\n"
          ]
        }
      ]
    },
    {
      "cell_type": "code",
      "source": [
        "#18\n",
        "a1 = input() #50\n",
        "a2 = input() #05\n",
        "print(a1+a2)"
      ],
      "metadata": {
        "colab": {
          "base_uri": "https://localhost:8080/"
        },
        "id": "k1mN2sLkQ20e",
        "outputId": "5364f3d8-01f0-4a5d-bc42-b238720b3dbf"
      },
      "execution_count": null,
      "outputs": [
        {
          "output_type": "stream",
          "name": "stdout",
          "text": [
            "50\n",
            "05\n",
            "5005\n"
          ]
        }
      ]
    },
    {
      "cell_type": "code",
      "source": [
        "#19\n",
        "k = input() #40\n",
        "print(k)"
      ],
      "metadata": {
        "colab": {
          "base_uri": "https://localhost:8080/"
        },
        "id": "vzKYRORqRLby",
        "outputId": "bf05ebde-6d80-4c88-a854-88eb916e974d"
      },
      "execution_count": null,
      "outputs": [
        {
          "output_type": "stream",
          "name": "stdout",
          "text": [
            "40\n",
            "40\n"
          ]
        }
      ]
    },
    {
      "cell_type": "code",
      "source": [
        "#20\n",
        "h1 = input() #치킨\n",
        "h2 = input() #pizza\n",
        "print(h1 + \"h2\")"
      ],
      "metadata": {
        "colab": {
          "base_uri": "https://localhost:8080/"
        },
        "id": "yq8tunAoRZ5g",
        "outputId": "9950b067-f584-4926-8edc-c485ccf5ce29"
      },
      "execution_count": null,
      "outputs": [
        {
          "output_type": "stream",
          "name": "stdout",
          "text": [
            "치킨\n",
            "pizza\n",
            "치킨h2\n"
          ]
        }
      ]
    },
    {
      "cell_type": "code",
      "source": [
        "#2-1\n",
        "page = input() + \"p\"\n",
        "print(page)"
      ],
      "metadata": {
        "colab": {
          "base_uri": "https://localhost:8080/"
        },
        "id": "hbwIbIyoRmgk",
        "outputId": "285c3a6c-4ff3-4061-d059-4e2ff478da92"
      },
      "execution_count": null,
      "outputs": [
        {
          "output_type": "stream",
          "name": "stdout",
          "text": [
            "40\n",
            "40p\n"
          ]
        }
      ]
    },
    {
      "cell_type": "code",
      "source": [
        "#2-2\n",
        "num = int(input()) #50\n",
        "print(num -20)"
      ],
      "metadata": {
        "colab": {
          "base_uri": "https://localhost:8080/"
        },
        "id": "uV9SzfKHR234",
        "outputId": "bd0a4d27-5f91-4a7a-98cf-3d4cc556d9c6"
      },
      "execution_count": null,
      "outputs": [
        {
          "output_type": "stream",
          "name": "stdout",
          "text": [
            "50\n",
            "30\n"
          ]
        }
      ]
    },
    {
      "cell_type": "code",
      "source": [
        "#2-3\n",
        "a = int(input()) + 10 #4\n",
        "print(a)"
      ],
      "metadata": {
        "colab": {
          "base_uri": "https://localhost:8080/"
        },
        "id": "KRd9PYGDR_v8",
        "outputId": "bbe717b5-2755-44bc-802d-cdf2bfb8d9c5"
      },
      "execution_count": null,
      "outputs": [
        {
          "output_type": "stream",
          "name": "stdout",
          "text": [
            "4\n",
            "14\n"
          ]
        }
      ]
    },
    {
      "cell_type": "code",
      "source": [
        "#2-4"
      ],
      "metadata": {
        "id": "-vU4M5qoSFTP"
      },
      "execution_count": null,
      "outputs": []
    },
    {
      "cell_type": "code",
      "source": [
        "#문자열과 숫자의 출력(간단하게 해보기)\n",
        "print(        ) #학번 이름 출력"
      ],
      "metadata": {
        "id": "o4Fx3ryvVJ5Q",
        "colab": {
          "base_uri": "https://localhost:8080/"
        },
        "outputId": "823d29d2-930f-41d3-aef5-7dc544ee52cf"
      },
      "execution_count": null,
      "outputs": [
        {
          "output_type": "stream",
          "name": "stdout",
          "text": [
            "\n"
          ]
        }
      ]
    },
    {
      "cell_type": "markdown",
      "source": [
        "이스케이프 코드란 프로그래밍할 때 사용할 수 있도록 미리 정의해 둔 \"문자 조합\"이다. \n",
        "![image.png](data:image/png;base64,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)\n"
      ],
      "metadata": {
        "id": "bc6AFNTmcL51"
      }
    },
    {
      "cell_type": "markdown",
      "source": [
        "## 변수 : 변하는 수, 데이터를 담아두는 그릇  **데이터를 저장하는 공간**\n",
        "\n",
        "한 번 지정한 값을 여러 번 재사용할 수 있으므로 코딩하기가 편해집니다.  \n",
        "\n",
        "변수명 = 대입할 값\n",
        "\n",
        " **'='** 부호를 사용합니다. \n",
        " \n",
        " \n",
        "### = : 오른쪽의 값을 왼쪽에 넣어라. 대입 연산자\n",
        "### cf. == : 왼쪽과 오른쪽이 같다. 비교 연산자"
      ],
      "metadata": {
        "id": "fL7r37wdsYhg"
      }
    },
    {
      "cell_type": "code",
      "source": [
        "#변수를 지정하고 아래와 같은 출력 값이 나올 수 있도록 코드를 작성해보세요.\n",
        "#2022학년도 (자신의 이름)님! 안녕하세요!"
      ],
      "metadata": {
        "id": "PJDqz5jtiLnP"
      },
      "execution_count": null,
      "outputs": []
    },
    {
      "cell_type": "markdown",
      "source": [
        "##  입력 input() \n",
        "\n",
        "**`input()`** 은 \n",
        " () 안에 입력해야 할 값에 대한 설명을 적어줍니다.   \n",
        "\n",
        "\n",
        "아래와 같이 다양한 메세지 또는 변수들을 입력할 수 있습니다.  \n",
        "\n"
      ],
      "metadata": {
        "id": "oM0S_zyauBz8"
      }
    },
    {
      "cell_type": "code",
      "source": [
        "# input의 속성 알아보기 _ a와 b에 두 수를 입력받아 합 구해보기 \n",
        "a = \n",
        "b = \n",
        " \n",
        "print()"
      ],
      "metadata": {
        "id": "Ad1AhqdquMRH",
        "colab": {
          "base_uri": "https://localhost:8080/",
          "height": 137
        },
        "outputId": "bfa965f9-cb2f-4707-a246-3e8a4b17e32a"
      },
      "execution_count": null,
      "outputs": [
        {
          "output_type": "error",
          "ename": "SyntaxError",
          "evalue": "ignored",
          "traceback": [
            "\u001b[0;36m  File \u001b[0;32m\"<ipython-input-9-d5bcc601b6f8>\"\u001b[0;36m, line \u001b[0;32m2\u001b[0m\n\u001b[0;31m    a =\u001b[0m\n\u001b[0m        ^\u001b[0m\n\u001b[0;31mSyntaxError\u001b[0m\u001b[0;31m:\u001b[0m invalid syntax\n"
          ]
        }
      ]
    },
    {
      "cell_type": "code",
      "source": [
        "# 아래와 같은 화면이 나올 수 있도록 변수, 출력, 입력을 활용하여 코드를 작성해주세요.\n",
        "#이름을 입력해주세요 :\n",
        "#(이름)님 안녕하세요!"
      ],
      "metadata": {
        "id": "1JcsQ3KpqBX_"
      },
      "execution_count": null,
      "outputs": []
    },
    {
      "cell_type": "markdown",
      "source": [
        "##자료형\n",
        "\n",
        "파이썬에서는 수를 크게 두 가지 타입으로 분류합니다 .\n",
        "\n",
        "1. **integer 또는 int** 는 **정수형** 데이터를 저장하는 변수 타입입니다. (-2, -1 .... 3 4 5 등)  \n",
        "소수점이 없는 수를 저장할 때 쓰입니다. \n",
        "\n",
        "2. **floating point 또는 float** 는 **실수**를 표기하기 위해 쓰는 변수 타입입니다. ( 1.23, 10.567 등) \n",
        "\n",
        " **type()** 함수를 통해 자료형을 알 수 있습니다. \n"
      ],
      "metadata": {
        "id": "jc4cBTjyujvU"
      }
    },
    {
      "cell_type": "code",
      "source": [
        "#type 함수\n",
        "type(        )\n",
        "a=\n",
        "type(   )\n",
        "a= \n",
        "type(    )"
      ],
      "metadata": {
        "id": "dr3_875htL-7",
        "colab": {
          "base_uri": "https://localhost:8080/",
          "height": 137
        },
        "outputId": "f6520da4-b9a1-4572-ab49-227988bc5cd2"
      },
      "execution_count": null,
      "outputs": [
        {
          "output_type": "error",
          "ename": "SyntaxError",
          "evalue": "ignored",
          "traceback": [
            "\u001b[0;36m  File \u001b[0;32m\"<ipython-input-11-b6e4dbbb3603>\"\u001b[0;36m, line \u001b[0;32m3\u001b[0m\n\u001b[0;31m    a=\u001b[0m\n\u001b[0m      ^\u001b[0m\n\u001b[0;31mSyntaxError\u001b[0m\u001b[0;31m:\u001b[0m invalid syntax\n"
          ]
        }
      ]
    },
    {
      "cell_type": "code",
      "source": [
        "#자료형 바꾸기\n",
        "string2int = '10'\n",
        "                #자료형 확인\n",
        "                # 자료형 정수형으로 바꾸기\n",
        "                # 자료형 실수형으로 바꾸기"
      ],
      "metadata": {
        "id": "extJLjwjtc72"
      },
      "execution_count": null,
      "outputs": []
    },
    {
      "cell_type": "markdown",
      "source": [
        " 프로그래밍에서 텍스트를 **문자열(string)** 이라고 부릅니다.\n",
        "\n",
        "\n",
        "파이썬에서는 문자열을 **큰 따옴표** 또는 **작은 따옴표**로 표기합니다.\n"
      ],
      "metadata": {
        "id": "Cx866y7Buk2b"
      }
    },
    {
      "cell_type": "markdown",
      "source": [
        "파이썬에는 참(True), 거짓(False)를 나타내는 불(bool) 자료형도 있습니다. "
      ],
      "metadata": {
        "id": "iM7hmiP5uqye"
      }
    },
    {
      "cell_type": "markdown",
      "source": [
        "## 문자열 반복하기, 더하기 \n",
        "\n",
        "# `*` 기호를 문자열(String)에 사용하면 반복\n",
        "\n",
        "# `+` 기호를 문자열(String)에 사용하면 문자열끼리 덧셈. Concatenation \n",
        "공백없이 두 문자열이 합쳐지게 됩니다."
      ],
      "metadata": {
        "id": "NTopfzJobdhq"
      }
    },
    {
      "cell_type": "markdown",
      "source": [
        "# 연산자 \n",
        "![image.png](data:image/png;base64,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)"
      ],
      "metadata": {
        "id": "hrlr0mOkr5Ex"
      }
    },
    {
      "cell_type": "markdown",
      "source": [
        "# 두 결과값의 차이를 예측해봅시다.\n",
        "![image.png](data:image/png;base64,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)"
      ],
      "metadata": {
        "id": "6GSllCzPsGjV"
      }
    },
    {
      "cell_type": "code",
      "source": [],
      "metadata": {
        "id": "gICIP90isIWq"
      },
      "execution_count": null,
      "outputs": []
    },
    {
      "cell_type": "markdown",
      "source": [
        "# 산술 연산자"
      ],
      "metadata": {
        "id": "UBMg1GyZr6Xw"
      }
    },
    {
      "cell_type": "code",
      "source": [
        "#아래 빈칸에 다양한 숫자를 넣어서 결과 값을 확인하세요.\n",
        "print(   +   ) \n",
        "print(   -   )\n",
        "print(   %   ) \n",
        "print(   *   ) \n",
        "print(   /   )\n",
        "print(  //   ) "
      ],
      "metadata": {
        "id": "qqCgBfisqpXR",
        "colab": {
          "base_uri": "https://localhost:8080/",
          "height": 137
        },
        "outputId": "07d8a73e-7b51-4d14-c933-ef9d55d85978"
      },
      "execution_count": null,
      "outputs": [
        {
          "output_type": "error",
          "ename": "SyntaxError",
          "evalue": "ignored",
          "traceback": [
            "\u001b[0;36m  File \u001b[0;32m\"<ipython-input-12-7f48a44f04a3>\"\u001b[0;36m, line \u001b[0;32m2\u001b[0m\n\u001b[0;31m    print(   +   )\u001b[0m\n\u001b[0m                 ^\u001b[0m\n\u001b[0;31mSyntaxError\u001b[0m\u001b[0;31m:\u001b[0m invalid syntax\n"
          ]
        }
      ]
    },
    {
      "cell_type": "markdown",
      "source": [
        "# 비교연산자와 논리 연산자"
      ],
      "metadata": {
        "id": "v8DPHmdirmNl"
      }
    },
    {
      "cell_type": "code",
      "source": [
        "#아래 식의 결과 값을 예상해보세요.\n",
        "\n",
        "print(1 == 1 and 2 != 1)\n",
        "print(10 % 2 != 0 and 1 + 1 > 0)\n",
        "print(10 < 5 or 10 == 5)\n",
        "print(10 % 2 != 0 or 1 + 1 > 0)"
      ],
      "metadata": {
        "id": "4e3Pyxc6rqLT"
      },
      "execution_count": null,
      "outputs": []
    },
    {
      "cell_type": "markdown",
      "source": [
        "# 다양한 내장 함수 실습"
      ],
      "metadata": {
        "id": "ZMKurdfesOtg"
      }
    },
    {
      "cell_type": "markdown",
      "source": [
        "## random 함수"
      ],
      "metadata": {
        "id": "2OqlC6cMsQ0N"
      }
    },
    {
      "cell_type": "code",
      "source": [
        "#실행해보면서 역할 이해하기 + 숫자 범위 바꿔보기\n",
        "\n",
        "import \n",
        "dice = \n",
        "print(     )"
      ],
      "metadata": {
        "id": "6sN3wdOCsUwm",
        "colab": {
          "base_uri": "https://localhost:8080/",
          "height": 137
        },
        "outputId": "6b2a1edc-21f7-4f4a-a070-1d84bd755f04"
      },
      "execution_count": null,
      "outputs": [
        {
          "output_type": "error",
          "ename": "SyntaxError",
          "evalue": "ignored",
          "traceback": [
            "\u001b[0;36m  File \u001b[0;32m\"<ipython-input-13-7dfaadfd1a30>\"\u001b[0;36m, line \u001b[0;32m3\u001b[0m\n\u001b[0;31m    import\u001b[0m\n\u001b[0m           ^\u001b[0m\n\u001b[0;31mSyntaxError\u001b[0m\u001b[0;31m:\u001b[0m invalid syntax\n"
          ]
        }
      ]
    },
    {
      "cell_type": "markdown",
      "source": [
        "## 제곱근 함수"
      ],
      "metadata": {
        "id": "TIJzygwasffN"
      }
    },
    {
      "cell_type": "code",
      "source": [
        "#실행해보면서 역할 이해하기 + 숫자 범위 바꿔보기\n",
        "\n",
        "import \n",
        "print(           )"
      ],
      "metadata": {
        "id": "bIuWYOlHslpW",
        "colab": {
          "base_uri": "https://localhost:8080/",
          "height": 137
        },
        "outputId": "4ef2c922-b4c3-4abb-f0a0-82771eeed828"
      },
      "execution_count": null,
      "outputs": [
        {
          "output_type": "error",
          "ename": "SyntaxError",
          "evalue": "ignored",
          "traceback": [
            "\u001b[0;36m  File \u001b[0;32m\"<ipython-input-14-27f4aa7962e6>\"\u001b[0;36m, line \u001b[0;32m3\u001b[0m\n\u001b[0;31m    import\u001b[0m\n\u001b[0m           ^\u001b[0m\n\u001b[0;31mSyntaxError\u001b[0m\u001b[0;31m:\u001b[0m invalid syntax\n"
          ]
        }
      ]
    },
    {
      "cell_type": "code",
      "source": [],
      "metadata": {
        "id": "jCdXlMRJBftp"
      },
      "execution_count": null,
      "outputs": []
    }
  ]
}